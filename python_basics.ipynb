{
  "nbformat": 4,
  "nbformat_minor": 0,
  "metadata": {
    "kernelspec": {
      "display_name": "Python 3",
      "language": "python",
      "name": "python3"
    },
    "language_info": {
      "codemirror_mode": {
        "name": "ipython",
        "version": 3
      },
      "file_extension": ".py",
      "mimetype": "text/x-python",
      "name": "python",
      "nbconvert_exporter": "python",
      "pygments_lexer": "ipython3",
      "version": "3.8.3"
    },
    "colab": {
      "name": "python basics.ipynb",
      "provenance": [],
      "include_colab_link": true
    }
  },
  "cells": [
    {
      "cell_type": "markdown",
      "metadata": {
        "id": "view-in-github",
        "colab_type": "text"
      },
      "source": [
        "<a href=\"https://colab.research.google.com/github/imvickykumar999/portfolio-tutorial/blob/main/python_basics.ipynb\" target=\"_parent\"><img src=\"https://colab.research.google.com/assets/colab-badge.svg\" alt=\"Open In Colab\"/></a>"
      ]
    },
    {
      "cell_type": "code",
      "metadata": {
        "id": "JAeHb2ZTtMe8"
      },
      "source": [
        "# Datatypes"
      ],
      "execution_count": 1,
      "outputs": []
    },
    {
      "cell_type": "code",
      "metadata": {
        "id": "omkxrRyatMfS"
      },
      "source": [
        "# Numeric type -> int, float, complex\n",
        "# Set\n",
        "# dict\n",
        "# Sequence type -> str, tuple, list\n",
        "# booleans"
      ],
      "execution_count": 2,
      "outputs": []
    },
    {
      "cell_type": "code",
      "metadata": {
        "colab": {
          "base_uri": "https://localhost:8080/"
        },
        "id": "3CdLUXhStMfU",
        "outputId": "09972caa-7a49-4083-96c3-2659df20414b"
      },
      "source": [
        "a=8\n",
        "a"
      ],
      "execution_count": 3,
      "outputs": [
        {
          "output_type": "execute_result",
          "data": {
            "text/plain": [
              "8"
            ]
          },
          "metadata": {},
          "execution_count": 3
        }
      ]
    },
    {
      "cell_type": "code",
      "metadata": {
        "colab": {
          "base_uri": "https://localhost:8080/"
        },
        "id": "_s3pLCvKtMfZ",
        "outputId": "c262f1c7-ed76-4185-a492-498e5d9f8f6e"
      },
      "source": [
        "b=6.3\n",
        "b"
      ],
      "execution_count": 4,
      "outputs": [
        {
          "output_type": "execute_result",
          "data": {
            "text/plain": [
              "6.3"
            ]
          },
          "metadata": {},
          "execution_count": 4
        }
      ]
    },
    {
      "cell_type": "code",
      "metadata": {
        "colab": {
          "base_uri": "https://localhost:8080/"
        },
        "id": "LhVgwRjFtMfb",
        "outputId": "520b7eee-5539-46c5-adb1-0775520a40b8"
      },
      "source": [
        "c={a:b, 'hi':3}\n",
        "c"
      ],
      "execution_count": 5,
      "outputs": [
        {
          "output_type": "execute_result",
          "data": {
            "text/plain": [
              "{8: 6.3, 'hi': 3}"
            ]
          },
          "metadata": {},
          "execution_count": 5
        }
      ]
    },
    {
      "cell_type": "code",
      "metadata": {
        "colab": {
          "base_uri": "https://localhost:8080/",
          "height": 35
        },
        "id": "cNJZUYJLtMfd",
        "outputId": "63406ec1-62b7-4bf1-cfb4-b7f29d9a20c6"
      },
      "source": [
        "d='hello'\n",
        "d"
      ],
      "execution_count": 6,
      "outputs": [
        {
          "output_type": "execute_result",
          "data": {
            "application/vnd.google.colaboratory.intrinsic+json": {
              "type": "string"
            },
            "text/plain": [
              "'hello'"
            ]
          },
          "metadata": {},
          "execution_count": 6
        }
      ]
    },
    {
      "cell_type": "code",
      "metadata": {
        "colab": {
          "base_uri": "https://localhost:8080/"
        },
        "id": "HyqIgUo_tMff",
        "outputId": "1ca32753-2e99-418e-f59c-530445c4df1c"
      },
      "source": [
        "e=(a,b,c,d)\n",
        "e"
      ],
      "execution_count": 7,
      "outputs": [
        {
          "output_type": "execute_result",
          "data": {
            "text/plain": [
              "(8, 6.3, {8: 6.3, 'hi': 3}, 'hello')"
            ]
          },
          "metadata": {},
          "execution_count": 7
        }
      ]
    },
    {
      "cell_type": "code",
      "metadata": {
        "colab": {
          "base_uri": "https://localhost:8080/"
        },
        "id": "8yPaSRiQtMfi",
        "outputId": "1d84e755-3bce-4e2c-fdd0-7e3d24eb44eb"
      },
      "source": [
        "f=[a,b,c]\n",
        "f"
      ],
      "execution_count": 8,
      "outputs": [
        {
          "output_type": "execute_result",
          "data": {
            "text/plain": [
              "[8, 6.3, {8: 6.3, 'hi': 3}]"
            ]
          },
          "metadata": {},
          "execution_count": 8
        }
      ]
    },
    {
      "cell_type": "code",
      "metadata": {
        "colab": {
          "base_uri": "https://localhost:8080/"
        },
        "id": "ChFDQhRCtMfl",
        "outputId": "d516c775-7bc6-4dff-8c54-11879f9de304"
      },
      "source": [
        "g=True\n",
        "int(g)"
      ],
      "execution_count": 9,
      "outputs": [
        {
          "output_type": "execute_result",
          "data": {
            "text/plain": [
              "1"
            ]
          },
          "metadata": {},
          "execution_count": 9
        }
      ]
    },
    {
      "cell_type": "code",
      "metadata": {
        "id": "CmSg3TmQtMfo"
      },
      "source": [
        "def call(s,t):\n",
        "    k=s+t\n",
        "    return k"
      ],
      "execution_count": 10,
      "outputs": []
    },
    {
      "cell_type": "code",
      "metadata": {
        "colab": {
          "base_uri": "https://localhost:8080/",
          "height": 35
        },
        "id": "rJDJXKYytMfq",
        "outputId": "607ae935-fec4-4231-fa87-e1f54619cb45"
      },
      "source": [
        "call('hello', 'badal')"
      ],
      "execution_count": 11,
      "outputs": [
        {
          "output_type": "execute_result",
          "data": {
            "application/vnd.google.colaboratory.intrinsic+json": {
              "type": "string"
            },
            "text/plain": [
              "'hellobadal'"
            ]
          },
          "metadata": {},
          "execution_count": 11
        }
      ]
    },
    {
      "cell_type": "code",
      "metadata": {
        "colab": {
          "base_uri": "https://localhost:8080/"
        },
        "id": "iqAKeucjtMfs",
        "outputId": "86b052dc-73d0-490d-c07e-0129cc07f070"
      },
      "source": [
        "call(7,3.65)"
      ],
      "execution_count": 12,
      "outputs": [
        {
          "output_type": "execute_result",
          "data": {
            "text/plain": [
              "10.65"
            ]
          },
          "metadata": {},
          "execution_count": 12
        }
      ]
    },
    {
      "cell_type": "code",
      "metadata": {
        "colab": {
          "base_uri": "https://localhost:8080/"
        },
        "id": "i5LSW_DltMfu",
        "outputId": "86b17539-be63-4996-c3b4-4fbe5cdb68b5"
      },
      "source": [
        "y=call(5,3)\n",
        "y"
      ],
      "execution_count": 13,
      "outputs": [
        {
          "output_type": "execute_result",
          "data": {
            "text/plain": [
              "8"
            ]
          },
          "metadata": {},
          "execution_count": 13
        }
      ]
    },
    {
      "cell_type": "code",
      "metadata": {
        "colab": {
          "base_uri": "https://localhost:8080/"
        },
        "id": "I8OZsWbStMfw",
        "outputId": "d5e6b488-9f9c-4440-c091-094cbc80f51a"
      },
      "source": [
        "for i in range(7):\n",
        "    print(i)"
      ],
      "execution_count": 14,
      "outputs": [
        {
          "output_type": "stream",
          "name": "stdout",
          "text": [
            "0\n",
            "1\n",
            "2\n",
            "3\n",
            "4\n",
            "5\n",
            "6\n"
          ]
        }
      ]
    },
    {
      "cell_type": "code",
      "metadata": {
        "colab": {
          "base_uri": "https://localhost:8080/"
        },
        "id": "CIcj9BXUtMfy",
        "outputId": "463a29d6-4982-4ead-e828-2d9475db3cea"
      },
      "source": [
        "for i in f:\n",
        "    print(i)"
      ],
      "execution_count": 15,
      "outputs": [
        {
          "output_type": "stream",
          "name": "stdout",
          "text": [
            "8\n",
            "6.3\n",
            "{8: 6.3, 'hi': 3}\n"
          ]
        }
      ]
    },
    {
      "cell_type": "code",
      "metadata": {
        "colab": {
          "base_uri": "https://localhost:8080/"
        },
        "id": "dEwQU2V3tMfz",
        "outputId": "3acdd570-00f7-4c66-c570-9fbea520930a"
      },
      "source": [
        "f"
      ],
      "execution_count": 16,
      "outputs": [
        {
          "output_type": "execute_result",
          "data": {
            "text/plain": [
              "[8, 6.3, {8: 6.3, 'hi': 3}]"
            ]
          },
          "metadata": {},
          "execution_count": 16
        }
      ]
    },
    {
      "cell_type": "code",
      "metadata": {
        "colab": {
          "base_uri": "https://localhost:8080/"
        },
        "id": "kRGDGwHmtMf1",
        "outputId": "3313ba4b-3470-45fe-df84-9892462417a5"
      },
      "source": [
        "f[0]"
      ],
      "execution_count": 17,
      "outputs": [
        {
          "output_type": "execute_result",
          "data": {
            "text/plain": [
              "8"
            ]
          },
          "metadata": {},
          "execution_count": 17
        }
      ]
    },
    {
      "cell_type": "code",
      "metadata": {
        "colab": {
          "base_uri": "https://localhost:8080/"
        },
        "id": "N6Ch9f1atMf2",
        "outputId": "f30bbd98-f6e6-4ef1-82d8-2c9f3c189991"
      },
      "source": [
        "u = f[-1]\n",
        "u"
      ],
      "execution_count": 18,
      "outputs": [
        {
          "output_type": "execute_result",
          "data": {
            "text/plain": [
              "{8: 6.3, 'hi': 3}"
            ]
          },
          "metadata": {},
          "execution_count": 18
        }
      ]
    },
    {
      "cell_type": "code",
      "metadata": {
        "colab": {
          "base_uri": "https://localhost:8080/"
        },
        "id": "eUjglaJQtMf3",
        "outputId": "8f45ad6c-1a81-4f73-af13-febf496e543b"
      },
      "source": [
        "v = u.keys()\n",
        "list(v)"
      ],
      "execution_count": 19,
      "outputs": [
        {
          "output_type": "execute_result",
          "data": {
            "text/plain": [
              "[8, 'hi']"
            ]
          },
          "metadata": {},
          "execution_count": 19
        }
      ]
    },
    {
      "cell_type": "code",
      "metadata": {
        "colab": {
          "base_uri": "https://localhost:8080/"
        },
        "id": "F0PxoOIatMf4",
        "outputId": "f6e07798-2746-4dcb-cd76-49688698fdb0"
      },
      "source": [
        "u.values()"
      ],
      "execution_count": 20,
      "outputs": [
        {
          "output_type": "execute_result",
          "data": {
            "text/plain": [
              "dict_values([6.3, 3])"
            ]
          },
          "metadata": {},
          "execution_count": 20
        }
      ]
    },
    {
      "cell_type": "code",
      "metadata": {
        "colab": {
          "base_uri": "https://localhost:8080/"
        },
        "id": "KS_RqZiitMf5",
        "outputId": "3781fda1-80ad-430b-fa0f-721b66acd281"
      },
      "source": [
        "for i,j in u.items():\n",
        "    print(i,j)    "
      ],
      "execution_count": 21,
      "outputs": [
        {
          "output_type": "stream",
          "name": "stdout",
          "text": [
            "8 6.3\n",
            "hi 3\n"
          ]
        }
      ]
    },
    {
      "cell_type": "code",
      "metadata": {
        "colab": {
          "base_uri": "https://localhost:8080/"
        },
        "id": "n7jhh4gKtMf5",
        "outputId": "c24c8da1-9895-4e5d-f093-1fb632bae060"
      },
      "source": [
        "for i in u:\n",
        "    print(i,u[i])"
      ],
      "execution_count": 22,
      "outputs": [
        {
          "output_type": "stream",
          "name": "stdout",
          "text": [
            "8 6.3\n",
            "hi 3\n"
          ]
        }
      ]
    },
    {
      "cell_type": "code",
      "metadata": {
        "colab": {
          "base_uri": "https://localhost:8080/"
        },
        "id": "vJNtsJshtMf6",
        "outputId": "ace0efe9-6768-4af4-e4dd-ac8e8e5e392f"
      },
      "source": [
        "u['hi']"
      ],
      "execution_count": 23,
      "outputs": [
        {
          "output_type": "execute_result",
          "data": {
            "text/plain": [
              "3"
            ]
          },
          "metadata": {},
          "execution_count": 23
        }
      ]
    },
    {
      "cell_type": "code",
      "metadata": {
        "colab": {
          "base_uri": "https://localhost:8080/"
        },
        "id": "0fFpgNLGtMf7",
        "outputId": "6203082b-cb02-4229-a279-5a59151ee7f9"
      },
      "source": [
        "f"
      ],
      "execution_count": 24,
      "outputs": [
        {
          "output_type": "execute_result",
          "data": {
            "text/plain": [
              "[8, 6.3, {8: 6.3, 'hi': 3}]"
            ]
          },
          "metadata": {},
          "execution_count": 24
        }
      ]
    },
    {
      "cell_type": "code",
      "metadata": {
        "id": "P46yWfvftMf8"
      },
      "source": [
        "f.append(8.56)"
      ],
      "execution_count": 25,
      "outputs": []
    },
    {
      "cell_type": "code",
      "metadata": {
        "colab": {
          "base_uri": "https://localhost:8080/"
        },
        "id": "E3fgUnBFtMf8",
        "outputId": "9d79509e-ae80-4ab2-ba40-4e4f05c40a2d"
      },
      "source": [
        "f"
      ],
      "execution_count": 26,
      "outputs": [
        {
          "output_type": "execute_result",
          "data": {
            "text/plain": [
              "[8, 6.3, {8: 6.3, 'hi': 3}, 8.56]"
            ]
          },
          "metadata": {},
          "execution_count": 26
        }
      ]
    },
    {
      "cell_type": "code",
      "metadata": {
        "colab": {
          "base_uri": "https://localhost:8080/"
        },
        "id": "sRdDQtqltMf9",
        "outputId": "f610f059-e217-456f-d15b-83f023552d19"
      },
      "source": [
        "f.pop()"
      ],
      "execution_count": 27,
      "outputs": [
        {
          "output_type": "execute_result",
          "data": {
            "text/plain": [
              "8.56"
            ]
          },
          "metadata": {},
          "execution_count": 27
        }
      ]
    },
    {
      "cell_type": "code",
      "metadata": {
        "colab": {
          "base_uri": "https://localhost:8080/"
        },
        "id": "XLwgiT4ItMf9",
        "outputId": "d19c9c27-2df3-4a13-9424-07619a0df471"
      },
      "source": [
        "f"
      ],
      "execution_count": 28,
      "outputs": [
        {
          "output_type": "execute_result",
          "data": {
            "text/plain": [
              "[8, 6.3, {8: 6.3, 'hi': 3}]"
            ]
          },
          "metadata": {},
          "execution_count": 28
        }
      ]
    },
    {
      "cell_type": "code",
      "metadata": {
        "colab": {
          "base_uri": "https://localhost:8080/"
        },
        "id": "THwTveHCtMf-",
        "outputId": "fc32a9cc-b74e-4fa4-c6a0-238466bd2042"
      },
      "source": [
        "f.pop()"
      ],
      "execution_count": 29,
      "outputs": [
        {
          "output_type": "execute_result",
          "data": {
            "text/plain": [
              "{8: 6.3, 'hi': 3}"
            ]
          },
          "metadata": {},
          "execution_count": 29
        }
      ]
    },
    {
      "cell_type": "code",
      "metadata": {
        "colab": {
          "base_uri": "https://localhost:8080/"
        },
        "id": "yRv1d7yntMf_",
        "outputId": "4846a3dd-a947-4054-8cc0-7a0db0ca8483"
      },
      "source": [
        "f"
      ],
      "execution_count": 30,
      "outputs": [
        {
          "output_type": "execute_result",
          "data": {
            "text/plain": [
              "[8, 6.3]"
            ]
          },
          "metadata": {},
          "execution_count": 30
        }
      ]
    },
    {
      "cell_type": "code",
      "metadata": {
        "id": "fwSqjFBNtMf_"
      },
      "source": [
        "f.insert(0,6.09)"
      ],
      "execution_count": 31,
      "outputs": []
    },
    {
      "cell_type": "code",
      "metadata": {
        "colab": {
          "base_uri": "https://localhost:8080/"
        },
        "id": "1hBYJKv9tMgA",
        "outputId": "eb7d2ddb-9f35-4a44-8160-997743e81f08"
      },
      "source": [
        "f"
      ],
      "execution_count": 32,
      "outputs": [
        {
          "output_type": "execute_result",
          "data": {
            "text/plain": [
              "[6.09, 8, 6.3]"
            ]
          },
          "metadata": {},
          "execution_count": 32
        }
      ]
    },
    {
      "cell_type": "code",
      "metadata": {
        "id": "QqG9VXOftMgD"
      },
      "source": [
        "f.remove(6.3)"
      ],
      "execution_count": 33,
      "outputs": []
    },
    {
      "cell_type": "code",
      "metadata": {
        "colab": {
          "base_uri": "https://localhost:8080/"
        },
        "id": "EWVnW_2QtMgE",
        "outputId": "2b2aec41-d1ea-4152-840c-182cdb158003"
      },
      "source": [
        "f"
      ],
      "execution_count": 34,
      "outputs": [
        {
          "output_type": "execute_result",
          "data": {
            "text/plain": [
              "[6.09, 8]"
            ]
          },
          "metadata": {},
          "execution_count": 34
        }
      ]
    },
    {
      "cell_type": "code",
      "metadata": {
        "colab": {
          "base_uri": "https://localhost:8080/"
        },
        "id": "QRd6yTEWtMgE",
        "outputId": "2441f4b9-4769-4297-fd00-84b849e58bab"
      },
      "source": [
        "h=[1,2,3,4,1,2,3]\n",
        "h"
      ],
      "execution_count": 35,
      "outputs": [
        {
          "output_type": "execute_result",
          "data": {
            "text/plain": [
              "[1, 2, 3, 4, 1, 2, 3]"
            ]
          },
          "metadata": {},
          "execution_count": 35
        }
      ]
    },
    {
      "cell_type": "code",
      "metadata": {
        "id": "GZosZ_SptMgF"
      },
      "source": [
        "h.remove(2)"
      ],
      "execution_count": 36,
      "outputs": []
    },
    {
      "cell_type": "code",
      "metadata": {
        "colab": {
          "base_uri": "https://localhost:8080/"
        },
        "id": "F7oNEb95tMgG",
        "outputId": "5ea0a01a-0f90-48de-9750-2bda3c5058c2"
      },
      "source": [
        "h"
      ],
      "execution_count": 37,
      "outputs": [
        {
          "output_type": "execute_result",
          "data": {
            "text/plain": [
              "[1, 3, 4, 1, 2, 3]"
            ]
          },
          "metadata": {},
          "execution_count": 37
        }
      ]
    },
    {
      "cell_type": "code",
      "metadata": {
        "id": "V2UguVTxtMgH"
      },
      "source": [
        "# class"
      ],
      "execution_count": 38,
      "outputs": []
    },
    {
      "cell_type": "code",
      "metadata": {
        "id": "KhjLqrqytMgH"
      },
      "source": [
        "class Person:\n",
        "    def __init__(self, name, age):\n",
        "        self.name = name\n",
        "        self.age = age\n",
        "\n",
        "    def myfunc(self):\n",
        "        print(\"Hello my name is \" + self.name)\n",
        "        print(\"My age is \" + str( self.age ))"
      ],
      "execution_count": 39,
      "outputs": []
    },
    {
      "cell_type": "code",
      "metadata": {
        "colab": {
          "base_uri": "https://localhost:8080/"
        },
        "id": "Z0JiLncKtMgI",
        "outputId": "4024b956-9fb0-4e19-edb1-4d19ed5acd33"
      },
      "source": [
        "p1 = Person(\"Vicky\", 22)\n",
        "p1.myfunc() "
      ],
      "execution_count": 40,
      "outputs": [
        {
          "output_type": "stream",
          "name": "stdout",
          "text": [
            "Hello my name is Vicky\n",
            "My age is 22\n"
          ]
        }
      ]
    },
    {
      "cell_type": "code",
      "metadata": {
        "colab": {
          "base_uri": "https://localhost:8080/"
        },
        "id": "E2Iiid0BtMgJ",
        "outputId": "7bbb1001-0a18-468d-9d8e-e0c14186a686"
      },
      "source": [
        "p2 = Person('Badal', 20)\n",
        "p2.myfunc() "
      ],
      "execution_count": 41,
      "outputs": [
        {
          "output_type": "stream",
          "name": "stdout",
          "text": [
            "Hello my name is Badal\n",
            "My age is 20\n"
          ]
        }
      ]
    },
    {
      "cell_type": "code",
      "metadata": {
        "id": "tG_y55iGtMgJ"
      },
      "source": [
        "class calc:\n",
        "    def __init__(self, a, b):\n",
        "        self.a = a\n",
        "        self.b = b\n",
        "        \n",
        "    def add(self):\n",
        "        return self.a + self.b \n",
        "    \n",
        "    def sub(self):\n",
        "        return self.a - self.b \n",
        "    \n",
        "    def mul(self):\n",
        "        return self.a * self.b \n",
        "    \n",
        "    def div(self):\n",
        "        return self.a / self.b \n",
        "    \n",
        "    def rem(self):\n",
        "        return self.a % self.b "
      ],
      "execution_count": 42,
      "outputs": []
    },
    {
      "cell_type": "code",
      "metadata": {
        "colab": {
          "base_uri": "https://localhost:8080/"
        },
        "id": "RowvOQEKtMgK",
        "outputId": "daf06e7d-6b03-4dea-88bd-243e93af23e6"
      },
      "source": [
        "p1 = calc(45.7, 5)\n",
        "r1 = p1.add()\n",
        "r1"
      ],
      "execution_count": 43,
      "outputs": [
        {
          "output_type": "execute_result",
          "data": {
            "text/plain": [
              "50.7"
            ]
          },
          "metadata": {},
          "execution_count": 43
        }
      ]
    },
    {
      "cell_type": "code",
      "metadata": {
        "colab": {
          "base_uri": "https://localhost:8080/"
        },
        "id": "137isxgTtMgL",
        "outputId": "2a91a8aa-b281-4d06-b46b-dab6eb19cf5c"
      },
      "source": [
        "type(r1) "
      ],
      "execution_count": 44,
      "outputs": [
        {
          "output_type": "execute_result",
          "data": {
            "text/plain": [
              "float"
            ]
          },
          "metadata": {},
          "execution_count": 44
        }
      ]
    },
    {
      "cell_type": "code",
      "metadata": {
        "colab": {
          "base_uri": "https://localhost:8080/"
        },
        "id": "VCwrGqkatMgM",
        "outputId": "45407015-45f4-4b9f-943b-9384230a4e9c"
      },
      "source": [
        "m1 = p1.mul()\n",
        "print(m1) "
      ],
      "execution_count": 45,
      "outputs": [
        {
          "output_type": "stream",
          "name": "stdout",
          "text": [
            "228.5\n"
          ]
        }
      ]
    },
    {
      "cell_type": "code",
      "metadata": {
        "colab": {
          "base_uri": "https://localhost:8080/"
        },
        "id": "DW-G4UbktMgM",
        "outputId": "3dca247d-97b9-4265-f12b-f7b5eb9d6c1d"
      },
      "source": [
        "p2 = calc(4,2)\n",
        "p2"
      ],
      "execution_count": 46,
      "outputs": [
        {
          "output_type": "execute_result",
          "data": {
            "text/plain": [
              "<__main__.calc at 0x7f705d1e3190>"
            ]
          },
          "metadata": {},
          "execution_count": 46
        }
      ]
    },
    {
      "cell_type": "code",
      "metadata": {
        "colab": {
          "base_uri": "https://localhost:8080/"
        },
        "id": "KdHGUxDmtMgN",
        "outputId": "f7f9fa6c-388e-43fb-bb32-bc87b5b66ed3"
      },
      "source": [
        "s = p2.sub()\n",
        "print(s)"
      ],
      "execution_count": 47,
      "outputs": [
        {
          "output_type": "stream",
          "name": "stdout",
          "text": [
            "2\n"
          ]
        }
      ]
    },
    {
      "cell_type": "code",
      "metadata": {
        "colab": {
          "base_uri": "https://localhost:8080/"
        },
        "id": "bWrAo_rutMgN",
        "outputId": "9b743057-db71-4ef5-9adf-86d8ea50b71d"
      },
      "source": [
        "k = p2.mul()\n",
        "k"
      ],
      "execution_count": 48,
      "outputs": [
        {
          "output_type": "execute_result",
          "data": {
            "text/plain": [
              "8"
            ]
          },
          "metadata": {},
          "execution_count": 48
        }
      ]
    },
    {
      "cell_type": "code",
      "metadata": {
        "colab": {
          "base_uri": "https://localhost:8080/"
        },
        "id": "jIxyK6b3tMgO",
        "outputId": "85e30282-9699-4c3e-ffc2-d732058803a5"
      },
      "source": [
        "j = p1.div()\n",
        "j"
      ],
      "execution_count": 49,
      "outputs": [
        {
          "output_type": "execute_result",
          "data": {
            "text/plain": [
              "9.14"
            ]
          },
          "metadata": {},
          "execution_count": 49
        }
      ]
    },
    {
      "cell_type": "code",
      "metadata": {
        "id": "xA6_xsVftMgP"
      },
      "source": [
        "class Account:\n",
        "    def __init__(self,owner,balance=0):\n",
        "        self.owner = owner\n",
        "        self.balance = balance\n",
        "\n",
        "    def __str__(self):\n",
        "        return f'Account owner:   {self.owner}\\nAccount balance: ${self.balance}'\n",
        "\n",
        "    def deposit(self,dep_amt):\n",
        "        self.balance += dep_amt\n",
        "        print('Deposit Accepted')\n",
        "        print(self.owner, \"'s Balance is $\", self.balance)\n",
        "\n",
        "    def withdraw(self,wd_amt):\n",
        "        if self.balance >= wd_amt:\n",
        "            self.balance -= wd_amt\n",
        "            print('Withdrawal Accepted')\n",
        "            print(self.owner, \"'s Balance is $\", self.balance)\n",
        "        else:\n",
        "            print('Funds Unavailable!')"
      ],
      "execution_count": 50,
      "outputs": []
    },
    {
      "cell_type": "code",
      "metadata": {
        "colab": {
          "base_uri": "https://localhost:8080/"
        },
        "id": "iGgD17FftMgP",
        "outputId": "9d243714-6f9d-47a7-eee9-8d246d1d70d8"
      },
      "source": [
        "# 1. Instantiate the class\n",
        "acct1 = Account('Jose',200)\n",
        "\n",
        "# 2. Print the object\n",
        "print(acct1)"
      ],
      "execution_count": 51,
      "outputs": [
        {
          "output_type": "stream",
          "name": "stdout",
          "text": [
            "Account owner:   Jose\n",
            "Account balance: $200\n"
          ]
        }
      ]
    },
    {
      "cell_type": "code",
      "metadata": {
        "colab": {
          "base_uri": "https://localhost:8080/",
          "height": 35
        },
        "id": "cPonuhaStMgR",
        "outputId": "074af34f-5e38-442f-b150-75bb2eed33bf"
      },
      "source": [
        "# 3. Show the account owner attribute\n",
        "acct1.owner"
      ],
      "execution_count": 52,
      "outputs": [
        {
          "output_type": "execute_result",
          "data": {
            "application/vnd.google.colaboratory.intrinsic+json": {
              "type": "string"
            },
            "text/plain": [
              "'Jose'"
            ]
          },
          "metadata": {},
          "execution_count": 52
        }
      ]
    },
    {
      "cell_type": "code",
      "metadata": {
        "colab": {
          "base_uri": "https://localhost:8080/"
        },
        "id": "tpm7YZsstMgS",
        "outputId": "d815c947-8089-40f5-b61f-d5542aed1181"
      },
      "source": [
        "# 4. Show the account balance attribute\n",
        "acct1.balance"
      ],
      "execution_count": 53,
      "outputs": [
        {
          "output_type": "execute_result",
          "data": {
            "text/plain": [
              "200"
            ]
          },
          "metadata": {},
          "execution_count": 53
        }
      ]
    },
    {
      "cell_type": "code",
      "metadata": {
        "colab": {
          "base_uri": "https://localhost:8080/"
        },
        "id": "Jt33e-wAtMgT",
        "outputId": "0476f2e3-39a2-4dd0-b7e4-d40a21edc0ec"
      },
      "source": [
        "# 5. Make a series of deposits and withdrawals\n",
        "acct1.deposit(50)"
      ],
      "execution_count": 54,
      "outputs": [
        {
          "output_type": "stream",
          "name": "stdout",
          "text": [
            "Deposit Accepted\n",
            "Jose 's Balance is $ 250\n"
          ]
        }
      ]
    },
    {
      "cell_type": "code",
      "metadata": {
        "colab": {
          "base_uri": "https://localhost:8080/"
        },
        "id": "a0tuHIYTtMgT",
        "outputId": "a7b1e353-5803-432b-9314-421dc289aa9e"
      },
      "source": [
        "acct1.withdraw(75)"
      ],
      "execution_count": 55,
      "outputs": [
        {
          "output_type": "stream",
          "name": "stdout",
          "text": [
            "Withdrawal Accepted\n",
            "Jose 's Balance is $ 175\n"
          ]
        }
      ]
    },
    {
      "cell_type": "code",
      "metadata": {
        "colab": {
          "base_uri": "https://localhost:8080/"
        },
        "id": "evsnDW-TtMgU",
        "outputId": "77feb633-3e75-475e-90f0-482f32b40355"
      },
      "source": [
        "# 6. Make a withdrawal that exceeds the available balance\n",
        "acct1.withdraw(500)"
      ],
      "execution_count": 56,
      "outputs": [
        {
          "output_type": "stream",
          "name": "stdout",
          "text": [
            "Funds Unavailable!\n"
          ]
        }
      ]
    },
    {
      "cell_type": "code",
      "metadata": {
        "colab": {
          "base_uri": "https://localhost:8080/"
        },
        "id": "YCRCAfmutMgV",
        "outputId": "a661b4d1-a847-46b6-9625-ca237a4bd5e7"
      },
      "source": [
        "# 6. Make a withdrawal that exceeds the available balance\n",
        "acct1.withdraw(45)"
      ],
      "execution_count": 57,
      "outputs": [
        {
          "output_type": "stream",
          "name": "stdout",
          "text": [
            "Withdrawal Accepted\n",
            "Jose 's Balance is $ 130\n"
          ]
        }
      ]
    },
    {
      "cell_type": "code",
      "metadata": {
        "colab": {
          "base_uri": "https://localhost:8080/"
        },
        "id": "Q921xdFptMgX",
        "outputId": "e37ae8dc-1e87-431e-9cfc-748616231e62"
      },
      "source": [
        "# 5. Make a series of deposits and withdrawals\n",
        "acct1.deposit(500)"
      ],
      "execution_count": 58,
      "outputs": [
        {
          "output_type": "stream",
          "name": "stdout",
          "text": [
            "Deposit Accepted\n",
            "Jose 's Balance is $ 630\n"
          ]
        }
      ]
    },
    {
      "cell_type": "code",
      "metadata": {
        "colab": {
          "base_uri": "https://localhost:8080/"
        },
        "id": "cjCr-kNYtMgY",
        "outputId": "274e8da0-49e6-435c-a645-0d180ae8f6a2"
      },
      "source": [
        "acct2 = Account('imvickykumar999')\n",
        "print(acct2) "
      ],
      "execution_count": 59,
      "outputs": [
        {
          "output_type": "stream",
          "name": "stdout",
          "text": [
            "Account owner:   imvickykumar999\n",
            "Account balance: $0\n"
          ]
        }
      ]
    },
    {
      "cell_type": "code",
      "metadata": {
        "colab": {
          "base_uri": "https://localhost:8080/"
        },
        "id": "UFog_KvDtMgZ",
        "outputId": "c11a5fc3-3deb-452c-c404-916313612b0a"
      },
      "source": [
        "acct2.deposit(200)"
      ],
      "execution_count": 60,
      "outputs": [
        {
          "output_type": "stream",
          "name": "stdout",
          "text": [
            "Deposit Accepted\n",
            "imvickykumar999 's Balance is $ 200\n"
          ]
        }
      ]
    },
    {
      "cell_type": "code",
      "metadata": {
        "colab": {
          "base_uri": "https://localhost:8080/"
        },
        "id": "ZW_ovVnKtMga",
        "outputId": "f9bbbcc9-dbff-4a8c-be2d-74a14391b6ad"
      },
      "source": [
        "acct2.withdraw(150)"
      ],
      "execution_count": 61,
      "outputs": [
        {
          "output_type": "stream",
          "name": "stdout",
          "text": [
            "Withdrawal Accepted\n",
            "imvickykumar999 's Balance is $ 50\n"
          ]
        }
      ]
    },
    {
      "cell_type": "code",
      "metadata": {
        "id": "bzPTga5Vt6Gw"
      },
      "source": [
        ""
      ],
      "execution_count": 61,
      "outputs": []
    }
  ]
}