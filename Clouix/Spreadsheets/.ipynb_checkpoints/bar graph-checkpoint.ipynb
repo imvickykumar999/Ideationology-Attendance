{
 "cells": [
  {
   "cell_type": "code",
   "execution_count": 6,
   "metadata": {},
   "outputs": [
    {
     "name": "stdout",
     "output_type": "stream",
     "text": [
      "{'Timestamp': '1/27/2022 17:07:13', 'Email': 'imvickykumar999@gmail.com', 'Name': 'Vicky Kumar', 'Year': '4th', 'WhatsApp Number': 8239957923, 'This Form is for Attendance Purpose, Mark if you want to attend regularly !': 'Yes, I Accept.'}\n",
      "{'Timestamp': '1/27/2022 18:53:24', 'Email': 'sarswataditya663@gmail.com', 'Name': 'Aditya', 'Year': '2nd', 'WhatsApp Number': 7414050546, 'This Form is for Attendance Purpose, Mark if you want to attend regularly !': 'Yes, I Accept.'}\n",
      "{'Timestamp': '1/27/2022 19:27:37', 'Email': 'av2935288@gmail.com', 'Name': 'Abhishek verma', 'Year': '2nd', 'WhatsApp Number': 8005840328, 'This Form is for Attendance Purpose, Mark if you want to attend regularly !': 'Yes, I Accept.'}\n"
     ]
    },
    {
     "data": {
      "text/plain": [
       "['Vicky Kumar', 'Aditya', 'Abhishek verma']"
      ]
     },
     "execution_count": 6,
     "metadata": {},
     "output_type": "execute_result"
    }
   ],
   "source": [
    "# https://docs.gspread.org/en/latest/api.html#gspread.spreadsheet.Spreadsheet.share\n",
    "\n",
    "from oauth2client.service_account import ServiceAccountCredentials as sac\n",
    "import gspread, os\n",
    "\n",
    "scope = ['https://spreadsheets.google.com/feeds',\n",
    "         'https://www.googleapis.com/auth/drive']\n",
    "\n",
    "# path = './Clouix/Spreadsheets'\n",
    "jfile = 'ideationology-lab-b60654e44e37.json'\n",
    "# dir = os.path.join(path, jfile)\n",
    "\n",
    "creds = sac.from_json_keyfile_name(jfile, scope)\n",
    "client = gspread.authorize(creds)\n",
    "\n",
    "url = 'https://docs.google.com/spreadsheets/d/1Va2O06m-sBdjHmxkvl4TpkC-ghm6U8jkFxhShDHDWLE/edit?hl=en&forcehl=1#gid=117935182'\n",
    "sheet = client.open_by_url(url)\n",
    "\n",
    "sheet_instance = sheet.get_worksheet(0)\n",
    "records_data = sheet_instance.get_all_records()\n",
    "Name=['Date (Y/M/D)']\n",
    "\n",
    "for i in records_data:\n",
    "    print(i)\n",
    "    Name.append(i['Name'])\n",
    "\n",
    "sheet_1 = sheet.get_worksheet(1)\n",
    "sheet_1.update('A1', [Name])\n",
    "Name[1:]"
   ]
  },
  {
   "cell_type": "code",
   "execution_count": null,
   "metadata": {},
   "outputs": [],
   "source": []
  }
 ],
 "metadata": {
  "kernelspec": {
   "display_name": "Python 3",
   "language": "python",
   "name": "python3"
  },
  "language_info": {
   "codemirror_mode": {
    "name": "ipython",
    "version": 3
   },
   "file_extension": ".py",
   "mimetype": "text/x-python",
   "name": "python",
   "nbconvert_exporter": "python",
   "pygments_lexer": "ipython3",
   "version": "3.8.3"
  }
 },
 "nbformat": 4,
 "nbformat_minor": 4
}
