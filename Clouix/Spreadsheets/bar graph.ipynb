{
 "cells": [
  {
   "cell_type": "code",
   "execution_count": 174,
   "metadata": {},
   "outputs": [],
   "source": [
    "# https://docs.gspread.org/en/latest/api.html#gspread.spreadsheet.Spreadsheet.share\n",
    "\n",
    "from oauth2client.service_account import ServiceAccountCredentials as sac\n",
    "import gspread, os\n",
    "\n",
    "scope = ['https://spreadsheets.google.com/feeds',\n",
    "         'https://www.googleapis.com/auth/drive']\n",
    "\n",
    "# path = './Clouix/Spreadsheets'\n",
    "jfile = 'ideationology-lab-b60654e44e37.json'\n",
    "# dir = os.path.join(path, jfile)\n",
    "\n",
    "creds = sac.from_json_keyfile_name(jfile, scope)\n",
    "client = gspread.authorize(creds)\n",
    "\n",
    "url = 'https://docs.google.com/spreadsheets/d/1Va2O06m-sBdjHmxkvl4TpkC-ghm6U8jkFxhShDHDWLE/edit?hl=en&forcehl=1#gid=117935182'\n",
    "sheet = client.open_by_url(url)\n",
    "\n",
    "def fetch():\n",
    "    sheet_instance = sheet.get_worksheet(0)\n",
    "    records_data = sheet_instance.get_all_records()\n",
    "    Name=['Date (Y/M/D)']\n",
    "    for i in records_data:\n",
    "        Name.append(i['Name'])\n",
    "\n",
    "    sheet_instance = sheet.get_worksheet(1)\n",
    "    sheet_instance.update('A1', [Name])\n",
    "    records_data = sheet_instance.get_all_records()\n",
    "    return records_data"
   ]
  },
  {
   "cell_type": "code",
   "execution_count": 175,
   "metadata": {
    "scrolled": true
   },
   "outputs": [
    {
     "data": {
      "text/plain": [
       "[{'Date (Y/M/D)': '2022-01-31',\n",
       "  'Vicky Kumar': 'P',\n",
       "  'Aditya': 'P',\n",
       "  'Abhishek verma': 'A',\n",
       "  'Chirag Pandey': 'P',\n",
       "  'Ayushi Agarwal ': '',\n",
       "  'Aakash verma': ''},\n",
       " {'Date (Y/M/D)': '2022-02-01',\n",
       "  'Vicky Kumar': 'P',\n",
       "  'Aditya': 'A',\n",
       "  'Abhishek verma': 'A',\n",
       "  'Chirag Pandey': 'A',\n",
       "  'Ayushi Agarwal ': 'P',\n",
       "  'Aakash verma': 'P'},\n",
       " {'Date (Y/M/D)': '2022-02-02',\n",
       "  'Vicky Kumar': 'P',\n",
       "  'Aditya': 'A',\n",
       "  'Abhishek verma': 'A',\n",
       "  'Chirag Pandey': 'A',\n",
       "  'Ayushi Agarwal ': 'P',\n",
       "  'Aakash verma': 'P'},\n",
       " {'Date (Y/M/D)': '2022-02-03',\n",
       "  'Vicky Kumar': 'P',\n",
       "  'Aditya': 'A',\n",
       "  'Abhishek verma': 'A',\n",
       "  'Chirag Pandey': 'A',\n",
       "  'Ayushi Agarwal ': 'A',\n",
       "  'Aakash verma': 'P'},\n",
       " {'Date (Y/M/D)': '2022-02-04',\n",
       "  'Vicky Kumar': 'P',\n",
       "  'Aditya': 'A',\n",
       "  'Abhishek verma': 'A',\n",
       "  'Chirag Pandey': 'A',\n",
       "  'Ayushi Agarwal ': 'P',\n",
       "  'Aakash verma': 'P'},\n",
       " {'Date (Y/M/D)': '2022-02-08',\n",
       "  'Vicky Kumar': 'P',\n",
       "  'Aditya': 'A',\n",
       "  'Abhishek verma': 'A',\n",
       "  'Chirag Pandey': 'A',\n",
       "  'Ayushi Agarwal ': 'P',\n",
       "  'Aakash verma': 'P'},\n",
       " {'Date (Y/M/D)': '2022-02-09',\n",
       "  'Vicky Kumar': 'P',\n",
       "  'Aditya': 'A',\n",
       "  'Abhishek verma': 'A',\n",
       "  'Chirag Pandey': 'A',\n",
       "  'Ayushi Agarwal ': 'A',\n",
       "  'Aakash verma': 'A'}]"
      ]
     },
     "execution_count": 175,
     "metadata": {},
     "output_type": "execute_result"
    }
   ],
   "source": [
    "data = fetch()\n",
    "data"
   ]
  },
  {
   "cell_type": "code",
   "execution_count": 176,
   "metadata": {},
   "outputs": [
    {
     "data": {
      "text/plain": [
       "7"
      ]
     },
     "execution_count": 176,
     "metadata": {},
     "output_type": "execute_result"
    }
   ],
   "source": [
    "len(data)"
   ]
  },
  {
   "cell_type": "code",
   "execution_count": 177,
   "metadata": {},
   "outputs": [
    {
     "data": {
      "text/html": [
       "<div>\n",
       "<style scoped>\n",
       "    .dataframe tbody tr th:only-of-type {\n",
       "        vertical-align: middle;\n",
       "    }\n",
       "\n",
       "    .dataframe tbody tr th {\n",
       "        vertical-align: top;\n",
       "    }\n",
       "\n",
       "    .dataframe thead th {\n",
       "        text-align: right;\n",
       "    }\n",
       "</style>\n",
       "<table border=\"1\" class=\"dataframe\">\n",
       "  <thead>\n",
       "    <tr style=\"text-align: right;\">\n",
       "      <th></th>\n",
       "      <th>Date (Y/M/D)</th>\n",
       "      <th>Vicky Kumar</th>\n",
       "      <th>Aditya</th>\n",
       "      <th>Abhishek verma</th>\n",
       "      <th>Chirag Pandey</th>\n",
       "      <th>Ayushi Agarwal</th>\n",
       "      <th>Aakash verma</th>\n",
       "    </tr>\n",
       "  </thead>\n",
       "  <tbody>\n",
       "    <tr>\n",
       "      <th>1</th>\n",
       "      <td>2022-01-31</td>\n",
       "      <td>P</td>\n",
       "      <td>P</td>\n",
       "      <td>A</td>\n",
       "      <td>P</td>\n",
       "      <td></td>\n",
       "      <td></td>\n",
       "    </tr>\n",
       "    <tr>\n",
       "      <th>2</th>\n",
       "      <td>2022-02-01</td>\n",
       "      <td>P</td>\n",
       "      <td>A</td>\n",
       "      <td>A</td>\n",
       "      <td>A</td>\n",
       "      <td>P</td>\n",
       "      <td>P</td>\n",
       "    </tr>\n",
       "    <tr>\n",
       "      <th>3</th>\n",
       "      <td>2022-02-02</td>\n",
       "      <td>P</td>\n",
       "      <td>A</td>\n",
       "      <td>A</td>\n",
       "      <td>A</td>\n",
       "      <td>P</td>\n",
       "      <td>P</td>\n",
       "    </tr>\n",
       "    <tr>\n",
       "      <th>4</th>\n",
       "      <td>2022-02-03</td>\n",
       "      <td>P</td>\n",
       "      <td>A</td>\n",
       "      <td>A</td>\n",
       "      <td>A</td>\n",
       "      <td>A</td>\n",
       "      <td>P</td>\n",
       "    </tr>\n",
       "    <tr>\n",
       "      <th>5</th>\n",
       "      <td>2022-02-04</td>\n",
       "      <td>P</td>\n",
       "      <td>A</td>\n",
       "      <td>A</td>\n",
       "      <td>A</td>\n",
       "      <td>P</td>\n",
       "      <td>P</td>\n",
       "    </tr>\n",
       "    <tr>\n",
       "      <th>6</th>\n",
       "      <td>2022-02-08</td>\n",
       "      <td>P</td>\n",
       "      <td>A</td>\n",
       "      <td>A</td>\n",
       "      <td>A</td>\n",
       "      <td>P</td>\n",
       "      <td>P</td>\n",
       "    </tr>\n",
       "    <tr>\n",
       "      <th>7</th>\n",
       "      <td>2022-02-09</td>\n",
       "      <td>P</td>\n",
       "      <td>A</td>\n",
       "      <td>A</td>\n",
       "      <td>A</td>\n",
       "      <td>A</td>\n",
       "      <td>A</td>\n",
       "    </tr>\n",
       "  </tbody>\n",
       "</table>\n",
       "</div>"
      ],
      "text/plain": [
       "  Date (Y/M/D) Vicky Kumar Aditya Abhishek verma Chirag Pandey  \\\n",
       "1   2022-01-31           P      P              A             P   \n",
       "2   2022-02-01           P      A              A             A   \n",
       "3   2022-02-02           P      A              A             A   \n",
       "4   2022-02-03           P      A              A             A   \n",
       "5   2022-02-04           P      A              A             A   \n",
       "6   2022-02-08           P      A              A             A   \n",
       "7   2022-02-09           P      A              A             A   \n",
       "\n",
       "  Ayushi Agarwal  Aakash verma  \n",
       "1                               \n",
       "2               P            P  \n",
       "3               P            P  \n",
       "4               A            P  \n",
       "5               P            P  \n",
       "6               P            P  \n",
       "7               A            A  "
      ]
     },
     "execution_count": 177,
     "metadata": {},
     "output_type": "execute_result"
    }
   ],
   "source": [
    "import pandas as pd\n",
    "import numpy as np\n",
    "\n",
    "df = pd.DataFrame(data)\n",
    "df.index +=1\n",
    "df"
   ]
  },
  {
   "cell_type": "code",
   "execution_count": 178,
   "metadata": {},
   "outputs": [
    {
     "data": {
      "text/html": [
       "<div>\n",
       "<style scoped>\n",
       "    .dataframe tbody tr th:only-of-type {\n",
       "        vertical-align: middle;\n",
       "    }\n",
       "\n",
       "    .dataframe tbody tr th {\n",
       "        vertical-align: top;\n",
       "    }\n",
       "\n",
       "    .dataframe thead th {\n",
       "        text-align: right;\n",
       "    }\n",
       "</style>\n",
       "<table border=\"1\" class=\"dataframe\">\n",
       "  <thead>\n",
       "    <tr style=\"text-align: right;\">\n",
       "      <th></th>\n",
       "      <th>Date (Y/M/D)</th>\n",
       "      <th>Vicky Kumar</th>\n",
       "      <th>Aditya</th>\n",
       "      <th>Abhishek verma</th>\n",
       "      <th>Chirag Pandey</th>\n",
       "      <th>Ayushi Agarwal</th>\n",
       "      <th>Aakash verma</th>\n",
       "    </tr>\n",
       "  </thead>\n",
       "  <tbody>\n",
       "    <tr>\n",
       "      <th>1</th>\n",
       "      <td>2022-01-31</td>\n",
       "      <td>P</td>\n",
       "      <td>P</td>\n",
       "      <td>A</td>\n",
       "      <td>P</td>\n",
       "      <td>NaN</td>\n",
       "      <td>NaN</td>\n",
       "    </tr>\n",
       "    <tr>\n",
       "      <th>2</th>\n",
       "      <td>2022-02-01</td>\n",
       "      <td>P</td>\n",
       "      <td>A</td>\n",
       "      <td>A</td>\n",
       "      <td>A</td>\n",
       "      <td>P</td>\n",
       "      <td>P</td>\n",
       "    </tr>\n",
       "    <tr>\n",
       "      <th>3</th>\n",
       "      <td>2022-02-02</td>\n",
       "      <td>P</td>\n",
       "      <td>A</td>\n",
       "      <td>A</td>\n",
       "      <td>A</td>\n",
       "      <td>P</td>\n",
       "      <td>P</td>\n",
       "    </tr>\n",
       "    <tr>\n",
       "      <th>4</th>\n",
       "      <td>2022-02-03</td>\n",
       "      <td>P</td>\n",
       "      <td>A</td>\n",
       "      <td>A</td>\n",
       "      <td>A</td>\n",
       "      <td>A</td>\n",
       "      <td>P</td>\n",
       "    </tr>\n",
       "    <tr>\n",
       "      <th>5</th>\n",
       "      <td>2022-02-04</td>\n",
       "      <td>P</td>\n",
       "      <td>A</td>\n",
       "      <td>A</td>\n",
       "      <td>A</td>\n",
       "      <td>P</td>\n",
       "      <td>P</td>\n",
       "    </tr>\n",
       "    <tr>\n",
       "      <th>6</th>\n",
       "      <td>2022-02-08</td>\n",
       "      <td>P</td>\n",
       "      <td>A</td>\n",
       "      <td>A</td>\n",
       "      <td>A</td>\n",
       "      <td>P</td>\n",
       "      <td>P</td>\n",
       "    </tr>\n",
       "    <tr>\n",
       "      <th>7</th>\n",
       "      <td>2022-02-09</td>\n",
       "      <td>P</td>\n",
       "      <td>A</td>\n",
       "      <td>A</td>\n",
       "      <td>A</td>\n",
       "      <td>A</td>\n",
       "      <td>A</td>\n",
       "    </tr>\n",
       "  </tbody>\n",
       "</table>\n",
       "</div>"
      ],
      "text/plain": [
       "  Date (Y/M/D) Vicky Kumar Aditya Abhishek verma Chirag Pandey  \\\n",
       "1   2022-01-31           P      P              A             P   \n",
       "2   2022-02-01           P      A              A             A   \n",
       "3   2022-02-02           P      A              A             A   \n",
       "4   2022-02-03           P      A              A             A   \n",
       "5   2022-02-04           P      A              A             A   \n",
       "6   2022-02-08           P      A              A             A   \n",
       "7   2022-02-09           P      A              A             A   \n",
       "\n",
       "  Ayushi Agarwal  Aakash verma  \n",
       "1             NaN          NaN  \n",
       "2               P            P  \n",
       "3               P            P  \n",
       "4               A            P  \n",
       "5               P            P  \n",
       "6               P            P  \n",
       "7               A            A  "
      ]
     },
     "execution_count": 178,
     "metadata": {},
     "output_type": "execute_result"
    }
   ],
   "source": [
    "df = df.replace('', np.nan)\n",
    "df"
   ]
  },
  {
   "cell_type": "code",
   "execution_count": 179,
   "metadata": {},
   "outputs": [
    {
     "data": {
      "text/plain": [
       "['Vicky Kumar',\n",
       " 'Aditya',\n",
       " 'Abhishek verma',\n",
       " 'Chirag Pandey',\n",
       " 'Ayushi Agarwal ',\n",
       " 'Aakash verma']"
      ]
     },
     "execution_count": 179,
     "metadata": {},
     "output_type": "execute_result"
    }
   ],
   "source": [
    "col = list(df.columns)[1:]\n",
    "col"
   ]
  },
  {
   "cell_type": "code",
   "execution_count": 180,
   "metadata": {
    "scrolled": true
   },
   "outputs": [
    {
     "data": {
      "text/plain": [
       "5"
      ]
     },
     "execution_count": 180,
     "metadata": {},
     "output_type": "execute_result"
    }
   ],
   "source": [
    "sum(df[col[-1]] == 'P')"
   ]
  },
  {
   "cell_type": "code",
   "execution_count": 181,
   "metadata": {},
   "outputs": [
    {
     "data": {
      "text/plain": [
       "{'Vicky Kumar': 7,\n",
       " 'Aditya': 1,\n",
       " 'Abhishek verma': 0,\n",
       " 'Chirag Pandey': 1,\n",
       " 'Ayushi Agarwal ': 4,\n",
       " 'Aakash verma': 5}"
      ]
     },
     "execution_count": 181,
     "metadata": {},
     "output_type": "execute_result"
    }
   ],
   "source": [
    "import pandas as pd\n",
    "import numpy as np\n",
    "\n",
    "data = fetch()\n",
    "df = pd.DataFrame(data)\n",
    "df.index +=1\n",
    "\n",
    "dc = {}\n",
    "col = list(df.columns)[1:]\n",
    "\n",
    "for i in range(len(col)):\n",
    "    dc.update({col[i] : sum(df[col[i]] == 'P')})\n",
    "dc"
   ]
  },
  {
   "cell_type": "code",
   "execution_count": 182,
   "metadata": {},
   "outputs": [],
   "source": [
    "def plot_it():\n",
    "    import pandas as pd\n",
    "    import numpy as np\n",
    "\n",
    "    data = fetch()\n",
    "    df = pd.DataFrame(data)\n",
    "    df.index +=1\n",
    "\n",
    "    dc = {}\n",
    "    col = list(df.columns)[1:]\n",
    "\n",
    "    for i in range(len(col)):\n",
    "        dc.update({col[i] : sum(df[col[i]] == 'P')})\n",
    "    \n",
    "    import matplotlib.pyplot as plt\n",
    "    import io, base64\n",
    "\n",
    "    img = io.BytesIO()\n",
    "    y = list(dc.values())\n",
    "#     x = list(dc.keys())\n",
    "    x = []\n",
    "    for i in range(len(col)):\n",
    "        a = chr(65+i)\n",
    "        x.append(a)\n",
    "\n",
    "    fig = plt.figure(figsize = (5, 5))\n",
    "    plt.bar(x, y, color ='red', width = 0.4)\n",
    "    plt.grid(True)\n",
    "#     plt.xticks(rotation=90)\n",
    "\n",
    "    plt.ylabel(\"No. of Attendance  --->\")\n",
    "    plt.title(\"Attendance Frequency : Bar Graph\\n\")\n",
    "\n",
    "    plt.savefig(img, format='png')\n",
    "    img.seek(0)\n",
    "    return base64.b64encode(img.getvalue()).decode()"
   ]
  },
  {
   "cell_type": "code",
   "execution_count": 183,
   "metadata": {
    "scrolled": true
   },
   "outputs": [
    {
     "data": {
      "text/plain": [
       "'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'"
      ]
     },
     "execution_count": 183,
     "metadata": {},
     "output_type": "execute_result"
    },
    {
     "data": {
      "image/png": "[encoded data removed]",
      "text/plain": [
       "<Figure size 360x360 with 1 Axes>"
      ]
     },
     "metadata": {
      "needs_background": "light"
     },
     "output_type": "display_data"
    }
   ],
   "source": [
    "plot_it()"
   ]
  },
  {
   "cell_type": "code",
   "execution_count": 184,
   "metadata": {},
   "outputs": [
    {
     "data": {
      "text/plain": [
       "['A', 'B', 'C', 'D', 'E', 'F']"
      ]
     },
     "execution_count": 184,
     "metadata": {},
     "output_type": "execute_result"
    }
   ],
   "source": [
    "x = []\n",
    "for i in range(len(col)):\n",
    "    a = chr(65+i)\n",
    "#     print(a)\n",
    "    x.append(a)\n",
    "\n",
    "# ord('A'), chr(65)\n",
    "x"
   ]
  },
  {
   "cell_type": "code",
   "execution_count": 138,
   "metadata": {},
   "outputs": [],
   "source": [
    "def plot_url(data):\n",
    "    import matplotlib.pyplot as plt\n",
    "    import io, base64\n",
    "\n",
    "    def countFreq(arr, n):\n",
    "        mp = dict()\n",
    "        for i in range(n):\n",
    "            if arr[i] in mp.keys():\n",
    "                mp[arr[i]] += 1\n",
    "            else:\n",
    "                mp[arr[i]] = 1\n",
    "        return mp\n",
    "\n",
    "    arr = list(data.values())\n",
    "    n = len(arr)\n",
    "    mp = countFreq(arr, n)\n",
    "    print('\\n************---> ', mp)\n",
    "\n",
    "    img = io.BytesIO()\n",
    "    y = list(mp.values())\n",
    "    x = list(mp.keys())\n",
    "\n",
    "    fig = plt.figure(figsize = (5, 5))\n",
    "    plt.bar(x, y, color ='red', width = 0.4)\n",
    "\n",
    "    plt.xlim(0,5)\n",
    "    plt.grid(True)\n",
    "\n",
    "    plt.xlabel(\"Options  --->\")\n",
    "    plt.ylabel(\"No. of Votes  --->\")\n",
    "    plt.title(\"Favourite ice Cream Flavour : Poll Result\\n\")\n",
    "\n",
    "    plt.savefig(img, format='png')\n",
    "    img.seek(0)\n",
    "    return base64.b64encode(img.getvalue()).decode()"
   ]
  },
  {
   "cell_type": "code",
   "execution_count": 139,
   "metadata": {},
   "outputs": [
    {
     "name": "stdout",
     "output_type": "stream",
     "text": [
      "\n",
      "************--->  {1: 2, 3: 2, 4: 4, 2: 1}\n"
     ]
    },
    {
     "data": {
      "text/plain": [
       "'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'"
      ]
     },
     "execution_count": 139,
     "metadata": {},
     "output_type": "execute_result"
    },
    {
     "data": {
      "image/png": "[encoded data removed]",
      "text/plain": [
       "<Figure size 360x360 with 1 Axes>"
      ]
     },
     "metadata": {
      "needs_background": "light"
     },
     "output_type": "display_data"
    }
   ],
   "source": [
    "data = {'aman': 1, 'ankit': 3, 'ankitmalpani1975': 4, 'harsh': 4, 'harshit': 2, 'hellovickykumar123': 4, 'imvickykumar999': 1, 'imvix': 3, 'sameer': 4}\n",
    "plot_url(data)"
   ]
  },
  {
   "cell_type": "code",
   "execution_count": null,
   "metadata": {},
   "outputs": [],
   "source": []
  }
 ],
 "metadata": {
  "kernelspec": {
   "display_name": "Python 3",
   "language": "python",
   "name": "python3"
  },
  "language_info": {
   "codemirror_mode": {
    "name": "ipython",
    "version": 3
   },
   "file_extension": ".py",
   "mimetype": "text/x-python",
   "name": "python",
   "nbconvert_exporter": "python",
   "pygments_lexer": "ipython3",
   "version": "3.8.3"
  }
 },
 "nbformat": 4,
 "nbformat_minor": 4
}
