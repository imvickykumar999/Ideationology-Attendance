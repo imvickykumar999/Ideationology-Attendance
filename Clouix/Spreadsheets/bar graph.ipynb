{
 "cells": [
  {
   "cell_type": "code",
   "execution_count": 5,
   "metadata": {},
   "outputs": [],
   "source": [
    "# https://docs.gspread.org/en/latest/api.html#gspread.spreadsheet.Spreadsheet.share\n",
    "\n",
    "from oauth2client.service_account import ServiceAccountCredentials as sac\n",
    "import gspread, os\n",
    "\n",
    "scope = ['https://spreadsheets.google.com/feeds',\n",
    "         'https://www.googleapis.com/auth/drive']\n",
    "\n",
    "# path = './Clouix/Spreadsheets'\n",
    "jfile = 'ideationology-lab-b60654e44e37.json'\n",
    "# dir = os.path.join(path, jfile)\n",
    "\n",
    "creds = sac.from_json_keyfile_name(jfile, scope)\n",
    "client = gspread.authorize(creds)\n",
    "\n",
    "url = 'https://docs.google.com/spreadsheets/d/1Va2O06m-sBdjHmxkvl4TpkC-ghm6U8jkFxhShDHDWLE/edit?hl=en&forcehl=1#gid=117935182'\n",
    "sheet = client.open_by_url(url)\n",
    "\n",
    "def fetch():\n",
    "    sheet_instance = sheet.get_worksheet(0)\n",
    "    records_data = sheet_instance.get_all_records()\n",
    "    Name=['Date (Y/M/D)']\n",
    "    for i in records_data:\n",
    "        Name.append(i['Name'])\n",
    "\n",
    "    sheet_instance = sheet.get_worksheet(1)\n",
    "    sheet_instance.update('A1', [Name])\n",
    "    records_data = sheet_instance.get_all_records()\n",
    "    return records_data"
   ]
  },
  {
   "cell_type": "code",
   "execution_count": 123,
   "metadata": {
    "scrolled": true
   },
   "outputs": [
    {
     "data": {
      "text/plain": [
       "[{'Date (Y/M/D)': '2022-01-31',\n",
       "  'Vicky Kumar': 'P',\n",
       "  'Aditya': 'P',\n",
       "  'Abhishek verma': 'A',\n",
       "  'Chirag Pandey': 'P',\n",
       "  'Ayushi Agarwal ': '',\n",
       "  'Aakash verma': ''},\n",
       " {'Date (Y/M/D)': '2022-02-01',\n",
       "  'Vicky Kumar': 'P',\n",
       "  'Aditya': 'A',\n",
       "  'Abhishek verma': 'A',\n",
       "  'Chirag Pandey': 'A',\n",
       "  'Ayushi Agarwal ': 'P',\n",
       "  'Aakash verma': 'P'},\n",
       " {'Date (Y/M/D)': '2022-02-02',\n",
       "  'Vicky Kumar': 'P',\n",
       "  'Aditya': 'A',\n",
       "  'Abhishek verma': 'A',\n",
       "  'Chirag Pandey': 'A',\n",
       "  'Ayushi Agarwal ': 'P',\n",
       "  'Aakash verma': 'P'},\n",
       " {'Date (Y/M/D)': '2022-02-03',\n",
       "  'Vicky Kumar': 'P',\n",
       "  'Aditya': 'A',\n",
       "  'Abhishek verma': 'A',\n",
       "  'Chirag Pandey': 'A',\n",
       "  'Ayushi Agarwal ': 'A',\n",
       "  'Aakash verma': 'P'},\n",
       " {'Date (Y/M/D)': '2022-02-04',\n",
       "  'Vicky Kumar': 'P',\n",
       "  'Aditya': 'A',\n",
       "  'Abhishek verma': 'A',\n",
       "  'Chirag Pandey': 'A',\n",
       "  'Ayushi Agarwal ': 'P',\n",
       "  'Aakash verma': 'P'},\n",
       " {'Date (Y/M/D)': '2022-02-08',\n",
       "  'Vicky Kumar': 'P',\n",
       "  'Aditya': 'A',\n",
       "  'Abhishek verma': 'A',\n",
       "  'Chirag Pandey': 'A',\n",
       "  'Ayushi Agarwal ': 'P',\n",
       "  'Aakash verma': 'P'}]"
      ]
     },
     "execution_count": 123,
     "metadata": {},
     "output_type": "execute_result"
    }
   ],
   "source": [
    "data = fetch()\n",
    "data"
   ]
  },
  {
   "cell_type": "code",
   "execution_count": 124,
   "metadata": {},
   "outputs": [
    {
     "data": {
      "text/plain": [
       "6"
      ]
     },
     "execution_count": 124,
     "metadata": {},
     "output_type": "execute_result"
    }
   ],
   "source": [
    "len(data)"
   ]
  },
  {
   "cell_type": "code",
   "execution_count": 125,
   "metadata": {},
   "outputs": [
    {
     "data": {
      "text/html": [
       "<div>\n",
       "<style scoped>\n",
       "    .dataframe tbody tr th:only-of-type {\n",
       "        vertical-align: middle;\n",
       "    }\n",
       "\n",
       "    .dataframe tbody tr th {\n",
       "        vertical-align: top;\n",
       "    }\n",
       "\n",
       "    .dataframe thead th {\n",
       "        text-align: right;\n",
       "    }\n",
       "</style>\n",
       "<table border=\"1\" class=\"dataframe\">\n",
       "  <thead>\n",
       "    <tr style=\"text-align: right;\">\n",
       "      <th></th>\n",
       "      <th>Date (Y/M/D)</th>\n",
       "      <th>Vicky Kumar</th>\n",
       "      <th>Aditya</th>\n",
       "      <th>Abhishek verma</th>\n",
       "      <th>Chirag Pandey</th>\n",
       "      <th>Ayushi Agarwal</th>\n",
       "      <th>Aakash verma</th>\n",
       "    </tr>\n",
       "  </thead>\n",
       "  <tbody>\n",
       "    <tr>\n",
       "      <th>1</th>\n",
       "      <td>2022-01-31</td>\n",
       "      <td>P</td>\n",
       "      <td>P</td>\n",
       "      <td>A</td>\n",
       "      <td>P</td>\n",
       "      <td></td>\n",
       "      <td></td>\n",
       "    </tr>\n",
       "    <tr>\n",
       "      <th>2</th>\n",
       "      <td>2022-02-01</td>\n",
       "      <td>P</td>\n",
       "      <td>A</td>\n",
       "      <td>A</td>\n",
       "      <td>A</td>\n",
       "      <td>P</td>\n",
       "      <td>P</td>\n",
       "    </tr>\n",
       "    <tr>\n",
       "      <th>3</th>\n",
       "      <td>2022-02-02</td>\n",
       "      <td>P</td>\n",
       "      <td>A</td>\n",
       "      <td>A</td>\n",
       "      <td>A</td>\n",
       "      <td>P</td>\n",
       "      <td>P</td>\n",
       "    </tr>\n",
       "    <tr>\n",
       "      <th>4</th>\n",
       "      <td>2022-02-03</td>\n",
       "      <td>P</td>\n",
       "      <td>A</td>\n",
       "      <td>A</td>\n",
       "      <td>A</td>\n",
       "      <td>A</td>\n",
       "      <td>P</td>\n",
       "    </tr>\n",
       "    <tr>\n",
       "      <th>5</th>\n",
       "      <td>2022-02-04</td>\n",
       "      <td>P</td>\n",
       "      <td>A</td>\n",
       "      <td>A</td>\n",
       "      <td>A</td>\n",
       "      <td>P</td>\n",
       "      <td>P</td>\n",
       "    </tr>\n",
       "    <tr>\n",
       "      <th>6</th>\n",
       "      <td>2022-02-08</td>\n",
       "      <td>P</td>\n",
       "      <td>A</td>\n",
       "      <td>A</td>\n",
       "      <td>A</td>\n",
       "      <td>P</td>\n",
       "      <td>P</td>\n",
       "    </tr>\n",
       "  </tbody>\n",
       "</table>\n",
       "</div>"
      ],
      "text/plain": [
       "  Date (Y/M/D) Vicky Kumar Aditya Abhishek verma Chirag Pandey  \\\n",
       "1   2022-01-31           P      P              A             P   \n",
       "2   2022-02-01           P      A              A             A   \n",
       "3   2022-02-02           P      A              A             A   \n",
       "4   2022-02-03           P      A              A             A   \n",
       "5   2022-02-04           P      A              A             A   \n",
       "6   2022-02-08           P      A              A             A   \n",
       "\n",
       "  Ayushi Agarwal  Aakash verma  \n",
       "1                               \n",
       "2               P            P  \n",
       "3               P            P  \n",
       "4               A            P  \n",
       "5               P            P  \n",
       "6               P            P  "
      ]
     },
     "execution_count": 125,
     "metadata": {},
     "output_type": "execute_result"
    }
   ],
   "source": [
    "import pandas as pd\n",
    "import numpy as np\n",
    "\n",
    "df = pd.DataFrame(data)\n",
    "df.index +=1\n",
    "df"
   ]
  },
  {
   "cell_type": "code",
   "execution_count": 130,
   "metadata": {},
   "outputs": [
    {
     "data": {
      "text/html": [
       "<div>\n",
       "<style scoped>\n",
       "    .dataframe tbody tr th:only-of-type {\n",
       "        vertical-align: middle;\n",
       "    }\n",
       "\n",
       "    .dataframe tbody tr th {\n",
       "        vertical-align: top;\n",
       "    }\n",
       "\n",
       "    .dataframe thead th {\n",
       "        text-align: right;\n",
       "    }\n",
       "</style>\n",
       "<table border=\"1\" class=\"dataframe\">\n",
       "  <thead>\n",
       "    <tr style=\"text-align: right;\">\n",
       "      <th></th>\n",
       "      <th>Date (Y/M/D)</th>\n",
       "      <th>Vicky Kumar</th>\n",
       "      <th>Aditya</th>\n",
       "      <th>Abhishek verma</th>\n",
       "      <th>Chirag Pandey</th>\n",
       "      <th>Ayushi Agarwal</th>\n",
       "      <th>Aakash verma</th>\n",
       "    </tr>\n",
       "  </thead>\n",
       "  <tbody>\n",
       "    <tr>\n",
       "      <th>1</th>\n",
       "      <td>2022-01-31</td>\n",
       "      <td>P</td>\n",
       "      <td>P</td>\n",
       "      <td>A</td>\n",
       "      <td>P</td>\n",
       "      <td>NaN</td>\n",
       "      <td>NaN</td>\n",
       "    </tr>\n",
       "    <tr>\n",
       "      <th>2</th>\n",
       "      <td>2022-02-01</td>\n",
       "      <td>P</td>\n",
       "      <td>A</td>\n",
       "      <td>A</td>\n",
       "      <td>A</td>\n",
       "      <td>P</td>\n",
       "      <td>P</td>\n",
       "    </tr>\n",
       "    <tr>\n",
       "      <th>3</th>\n",
       "      <td>2022-02-02</td>\n",
       "      <td>P</td>\n",
       "      <td>A</td>\n",
       "      <td>A</td>\n",
       "      <td>A</td>\n",
       "      <td>P</td>\n",
       "      <td>P</td>\n",
       "    </tr>\n",
       "    <tr>\n",
       "      <th>4</th>\n",
       "      <td>2022-02-03</td>\n",
       "      <td>P</td>\n",
       "      <td>A</td>\n",
       "      <td>A</td>\n",
       "      <td>A</td>\n",
       "      <td>A</td>\n",
       "      <td>P</td>\n",
       "    </tr>\n",
       "    <tr>\n",
       "      <th>5</th>\n",
       "      <td>2022-02-04</td>\n",
       "      <td>P</td>\n",
       "      <td>A</td>\n",
       "      <td>A</td>\n",
       "      <td>A</td>\n",
       "      <td>P</td>\n",
       "      <td>P</td>\n",
       "    </tr>\n",
       "    <tr>\n",
       "      <th>6</th>\n",
       "      <td>2022-02-08</td>\n",
       "      <td>P</td>\n",
       "      <td>A</td>\n",
       "      <td>A</td>\n",
       "      <td>A</td>\n",
       "      <td>P</td>\n",
       "      <td>P</td>\n",
       "    </tr>\n",
       "  </tbody>\n",
       "</table>\n",
       "</div>"
      ],
      "text/plain": [
       "  Date (Y/M/D) Vicky Kumar Aditya Abhishek verma Chirag Pandey  \\\n",
       "1   2022-01-31           P      P              A             P   \n",
       "2   2022-02-01           P      A              A             A   \n",
       "3   2022-02-02           P      A              A             A   \n",
       "4   2022-02-03           P      A              A             A   \n",
       "5   2022-02-04           P      A              A             A   \n",
       "6   2022-02-08           P      A              A             A   \n",
       "\n",
       "  Ayushi Agarwal  Aakash verma  \n",
       "1             NaN          NaN  \n",
       "2               P            P  \n",
       "3               P            P  \n",
       "4               A            P  \n",
       "5               P            P  \n",
       "6               P            P  "
      ]
     },
     "execution_count": 130,
     "metadata": {},
     "output_type": "execute_result"
    }
   ],
   "source": [
    "df = df.replace('', np.nan)\n",
    "df"
   ]
  },
  {
   "cell_type": "code",
   "execution_count": 131,
   "metadata": {},
   "outputs": [
    {
     "data": {
      "text/plain": [
       "['Vicky Kumar',\n",
       " 'Aditya',\n",
       " 'Abhishek verma',\n",
       " 'Chirag Pandey',\n",
       " 'Ayushi Agarwal ',\n",
       " 'Aakash verma']"
      ]
     },
     "execution_count": 131,
     "metadata": {},
     "output_type": "execute_result"
    }
   ],
   "source": [
    "col = list(df.columns)[1:]\n",
    "col"
   ]
  },
  {
   "cell_type": "code",
   "execution_count": 132,
   "metadata": {
    "scrolled": true
   },
   "outputs": [
    {
     "data": {
      "text/plain": [
       "5"
      ]
     },
     "execution_count": 132,
     "metadata": {},
     "output_type": "execute_result"
    }
   ],
   "source": [
    "sum(df[col[-1]] == 'P')"
   ]
  },
  {
   "cell_type": "code",
   "execution_count": 150,
   "metadata": {},
   "outputs": [
    {
     "data": {
      "text/plain": [
       "{'Vicky Kumar': 7,\n",
       " 'Aditya': 1,\n",
       " 'Abhishek verma': 0,\n",
       " 'Chirag Pandey': 1,\n",
       " 'Ayushi Agarwal ': 4,\n",
       " 'Aakash verma': 5}"
      ]
     },
     "execution_count": 150,
     "metadata": {},
     "output_type": "execute_result"
    }
   ],
   "source": [
    "import pandas as pd\n",
    "import numpy as np\n",
    "\n",
    "data = fetch()\n",
    "df = pd.DataFrame(data)\n",
    "df.index +=1\n",
    "\n",
    "dc = {}\n",
    "col = list(df.columns)[1:]\n",
    "\n",
    "for i in range(len(col)):\n",
    "    dc.update({col[i] : sum(df[col[i]] == 'P')})\n",
    "dc"
   ]
  },
  {
   "cell_type": "code",
   "execution_count": 153,
   "metadata": {},
   "outputs": [],
   "source": [
    "def plot_it():\n",
    "    import pandas as pd\n",
    "    import numpy as np\n",
    "\n",
    "    data = fetch()\n",
    "    df = pd.DataFrame(data)\n",
    "    df.index +=1\n",
    "\n",
    "    dc = {}\n",
    "    col = list(df.columns)[1:]\n",
    "\n",
    "    for i in range(len(col)):\n",
    "        dc.update({col[i] : sum(df[col[i]] == 'P')})\n",
    "    \n",
    "    import matplotlib.pyplot as plt\n",
    "    import io, base64\n",
    "\n",
    "    img = io.BytesIO()\n",
    "    y = list(dc.values())\n",
    "    x = list(dc.keys())\n",
    "\n",
    "    fig = plt.figure(figsize = (5, 5))\n",
    "    plt.bar(x, y, color ='red', width = 0.4)\n",
    "    plt.grid(True)\n",
    "    plt.xticks(rotation=90)\n",
    "\n",
    "    plt.ylabel(\"No. of Attendance  --->\")\n",
    "    plt.title(\"Attendance Frequency : Bar Graph\\n\")\n",
    "\n",
    "    plt.savefig(img, format='png')\n",
    "    img.seek(0)\n",
    "    return base64.b64encode(img.getvalue()).decode()"
   ]
  },
  {
   "cell_type": "code",
   "execution_count": 154,
   "metadata": {},
   "outputs": [
    {
     "data": {
      "text/plain": [
       "'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'"
      ]
     },
     "execution_count": 154,
     "metadata": {},
     "output_type": "execute_result"
    },
    {
     "data": {
      "image/png": "[encoded data removed]",
      "text/plain": [
       "<Figure size 360x360 with 1 Axes>"
      ]
     },
     "metadata": {
      "needs_background": "light"
     },
     "output_type": "display_data"
    }
   ],
   "source": [
    "plot_it()"
   ]
  },
  {
   "cell_type": "code",
   "execution_count": 138,
   "metadata": {},
   "outputs": [],
   "source": [
    "def plot_url(data):\n",
    "    import matplotlib.pyplot as plt\n",
    "    import io, base64\n",
    "\n",
    "    def countFreq(arr, n):\n",
    "        mp = dict()\n",
    "        for i in range(n):\n",
    "            if arr[i] in mp.keys():\n",
    "                mp[arr[i]] += 1\n",
    "            else:\n",
    "                mp[arr[i]] = 1\n",
    "        return mp\n",
    "\n",
    "    arr = list(data.values())\n",
    "    n = len(arr)\n",
    "    mp = countFreq(arr, n)\n",
    "    print('\\n************---> ', mp)\n",
    "\n",
    "    img = io.BytesIO()\n",
    "    y = list(mp.values())\n",
    "    x = list(mp.keys())\n",
    "\n",
    "    fig = plt.figure(figsize = (5, 5))\n",
    "    plt.bar(x, y, color ='red', width = 0.4)\n",
    "\n",
    "    plt.xlim(0,5)\n",
    "    plt.grid(True)\n",
    "\n",
    "    plt.xlabel(\"Options  --->\")\n",
    "    plt.ylabel(\"No. of Votes  --->\")\n",
    "    plt.title(\"Favourite ice Cream Flavour : Poll Result\\n\")\n",
    "\n",
    "    plt.savefig(img, format='png')\n",
    "    img.seek(0)\n",
    "    return base64.b64encode(img.getvalue()).decode()"
   ]
  },
  {
   "cell_type": "code",
   "execution_count": 139,
   "metadata": {},
   "outputs": [
    {
     "name": "stdout",
     "output_type": "stream",
     "text": [
      "\n",
      "************--->  {1: 2, 3: 2, 4: 4, 2: 1}\n"
     ]
    },
    {
     "data": {
      "text/plain": [
       "'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'"
      ]
     },
     "execution_count": 139,
     "metadata": {},
     "output_type": "execute_result"
    },
    {
     "data": {
      "image/png": "[encoded data removed]",
      "text/plain": [
       "<Figure size 360x360 with 1 Axes>"
      ]
     },
     "metadata": {
      "needs_background": "light"
     },
     "output_type": "display_data"
    }
   ],
   "source": [
    "data = {'aman': 1, 'ankit': 3, 'ankitmalpani1975': 4, 'harsh': 4, 'harshit': 2, 'hellovickykumar123': 4, 'imvickykumar999': 1, 'imvix': 3, 'sameer': 4}\n",
    "plot_url(data)"
   ]
  },
  {
   "cell_type": "code",
   "execution_count": null,
   "metadata": {},
   "outputs": [],
   "source": []
  }
 ],
 "metadata": {
  "kernelspec": {
   "display_name": "Python 3",
   "language": "python",
   "name": "python3"
  },
  "language_info": {
   "codemirror_mode": {
    "name": "ipython",
    "version": 3
   },
   "file_extension": ".py",
   "mimetype": "text/x-python",
   "name": "python",
   "nbconvert_exporter": "python",
   "pygments_lexer": "ipython3",
   "version": "3.8.3"
  }
 },
 "nbformat": 4,
 "nbformat_minor": 4
}
