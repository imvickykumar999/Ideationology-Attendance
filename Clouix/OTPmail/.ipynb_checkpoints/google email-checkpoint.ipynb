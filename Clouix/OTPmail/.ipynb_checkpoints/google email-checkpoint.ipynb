{
 "cells": [
  {
   "cell_type": "code",
   "execution_count": 1,
   "metadata": {},
   "outputs": [],
   "source": [
    "# https://xlsxwriter.readthedocs.io/working_with_pandas.html"
   ]
  },
  {
   "cell_type": "code",
   "execution_count": 24,
   "metadata": {},
   "outputs": [
    {
     "name": "stdout",
     "output_type": "stream",
     "text": [
      "Enter password : ········\n",
      "2\n"
     ]
    }
   ],
   "source": [
    "# https://myaccount.google.com/lesssecureapps?pli=1&rapt=AEjHL4NCqPzrmYABGDvDXRZ2otRGTMvD3g1gchNo0HTKiGEIr3HlCp-RFNAtMwvDEpYACPiCBp2ggt9X5ztsf1LUR5dVhW6nag\n",
    "\n",
    "import getpass\n",
    "passw = getpass.getpass('Enter password : ')\n",
    "\n",
    "def covail(passw=passw,\n",
    "           l=[\n",
    "               {'1key1':'1value1', '1key2':'1value2'},\n",
    "               {'2key1':'2value1', '2key2':'2value2'}\n",
    "             ],\n",
    "\n",
    "          toaddr = \"18erecs080.vicky@rietjaipur.ac.in\",\n",
    "          filename = None,\n",
    "          ):\n",
    "\n",
    "    if filename == None:\n",
    "        filename = f\"{toaddr.split('@')[0]}.xlsx\"\n",
    "\n",
    "    import pandas as pd\n",
    "    writer = pd.ExcelWriter(filename, engine='xlsxwriter')\n",
    "\n",
    "    for i, j in enumerate(l):\n",
    "        pd.DataFrame(l[i],\n",
    "         index=[0]\n",
    "         ).to_excel(writer, sheet_name = f'Sheet {i}')\n",
    "    writer.save()\n",
    "\n",
    "    import smtplib\n",
    "    from email.mime.multipart import MIMEMultipart\n",
    "    from email.mime.text import MIMEText\n",
    "    from email.mime.base import MIMEBase\n",
    "    from email import encoders\n",
    "\n",
    "    fromaddr = \"sagar.sws2000@gmail.com\"\n",
    "#     toaddr = \"hellovickykumar123@gmail.com\"\n",
    "\n",
    "    msg = MIMEMultipart()\n",
    "    msg['From'] = fromaddr\n",
    "    msg['To'] = toaddr\n",
    "\n",
    "    msg['Subject'] = \"COVID19 Slot Notification\"\n",
    "    body = f'''\n",
    "\n",
    "    Book your Slot here : https://selfregistration.cowin.gov.in/\n",
    "\n",
    "    This E-Mail is Sent using python code by vicks,\n",
    "    Slots are... (open attached excel file) below.\n",
    "    '''\n",
    "    msg.attach(MIMEText(body, 'plain'))\n",
    "    attachment = open(filename, \"rb\")\n",
    "\n",
    "    p = MIMEBase('application', 'octet-stream')\n",
    "    p.set_payload((attachment).read())\n",
    "    encoders.encode_base64(p)\n",
    "    p.add_header('Content-Disposition', \"attachment; filename= %s\" % filename)\n",
    "    msg.attach(p)\n",
    "\n",
    "    s = smtplib.SMTP('smtp.gmail.com', 587)\n",
    "    s.starttls()\n",
    "    s.login(fromaddr, passw)\n",
    "\n",
    "    text = msg.as_string()\n",
    "    s.sendmail(fromaddr, toaddr, text)\n",
    "    s.quit()\n",
    "    return len(l)\n",
    "\n",
    "print(covail(passw))"
   ]
  },
  {
   "cell_type": "code",
   "execution_count": 25,
   "metadata": {},
   "outputs": [],
   "source": [
    "# https://myaccount.google.com/lesssecureapps?pli=1&rapt=AEjHL4NCqPzrmYABGDvDXRZ2otRGTMvD3g1gchNo0HTKiGEIr3HlCp-RFNAtMwvDEpYACPiCBp2ggt9X5ztsf1LUR5dVhW6nag"
   ]
  },
  {
   "cell_type": "code",
   "execution_count": 3,
   "metadata": {},
   "outputs": [
    {
     "name": "stdout",
     "output_type": "stream",
     "text": [
      "\n",
      "Book your Slot here : https://selfregistration.cowin.gov.in/\n",
      "\n",
      "This E-Mail is Sent using python code by vicks,\n",
      "Slots are... (open attached excel file) below.\n",
      "\n",
      "<table cellspacing=\"0\" cellpadding=\"0\" border=\"0\" width=\"100%\">\n",
      "    <tr>\n",
      "        <td bgcolor=”#000000”>\n",
      "            Your email code goes here.\n",
      "        </td>\n",
      "    </tr>\n",
      "</table>\n",
      "\n"
     ]
    }
   ],
   "source": [
    "from email.mime.multipart import MIMEMultipart\n",
    "msg = MIMEMultipart()\n",
    "\n",
    "fromaddr = \"sagar.sws2000@gmail.com\"\n",
    "toaddr = \"18erecs080.vicky@rietjaipur.ac.in\"\n",
    "\n",
    "msg['From'] = fromaddr\n",
    "msg['To'] = toaddr\n",
    "\n",
    "msg['Subject'] = \"COVID19 Slot Notification\"\n",
    "filename = 'imvickykumar999.xlsx'\n",
    "\n",
    "body = f'''\n",
    "Book your Slot here : https://selfregistration.cowin.gov.in/\n",
    "\n",
    "This E-Mail is Sent using python code by vicks,\n",
    "Slots are... (open attached excel file) below.\n",
    "\n",
    "<table cellspacing=\"0\" cellpadding=\"0\" border=\"0\" width=\"100%\">\n",
    "    <tr>\n",
    "        <td bgcolor=”#000000”>\n",
    "            Your email code goes here.\n",
    "        </td>\n",
    "    </tr>\n",
    "</table>\n",
    "'''\n",
    "\n",
    "print(body)"
   ]
  },
  {
   "cell_type": "code",
   "execution_count": 7,
   "metadata": {},
   "outputs": [
    {
     "name": "stdout",
     "output_type": "stream",
     "text": [
      "None\n"
     ]
    }
   ],
   "source": [
    "from email.mime.text import MIMEText\n",
    "att = msg.attach(MIMEText(body, 'plain'))\n",
    "print(att)"
   ]
  },
  {
   "cell_type": "code",
   "execution_count": 9,
   "metadata": {},
   "outputs": [
    {
     "data": {
      "text/plain": [
       "<_io.BufferedReader name='imvickykumar999.xlsx'>"
      ]
     },
     "execution_count": 9,
     "metadata": {},
     "output_type": "execute_result"
    }
   ],
   "source": [
    "attachment = open(filename, \"rb\")\n",
    "attachment"
   ]
  },
  {
   "cell_type": "code",
   "execution_count": 11,
   "metadata": {},
   "outputs": [
    {
     "data": {
      "text/plain": [
       "<email.mime.base.MIMEBase at 0x2c8ea30b040>"
      ]
     },
     "execution_count": 11,
     "metadata": {},
     "output_type": "execute_result"
    }
   ],
   "source": [
    "from email.mime.base import MIMEBase\n",
    "p = MIMEBase('application', 'octet-stream')\n",
    "p"
   ]
  },
  {
   "cell_type": "code",
   "execution_count": 14,
   "metadata": {},
   "outputs": [
    {
     "name": "stdout",
     "output_type": "stream",
     "text": [
      "None\n"
     ]
    }
   ],
   "source": [
    "load = p.set_payload((attachment).read())\n",
    "print(load)"
   ]
  },
  {
   "cell_type": "code",
   "execution_count": 17,
   "metadata": {},
   "outputs": [
    {
     "name": "stdout",
     "output_type": "stream",
     "text": [
      "None\n"
     ]
    }
   ],
   "source": [
    "from email import encoders\n",
    "enc = encoders.encode_base64(p)\n",
    "print(enc)"
   ]
  },
  {
   "cell_type": "code",
   "execution_count": 21,
   "metadata": {},
   "outputs": [
    {
     "name": "stdout",
     "output_type": "stream",
     "text": [
      "None\n"
     ]
    }
   ],
   "source": [
    "hed = p.add_header('Content-Disposition',\n",
    "                   f\"attachment; filename= {filename}\")\n",
    "print(hed)"
   ]
  },
  {
   "cell_type": "code",
   "execution_count": 23,
   "metadata": {},
   "outputs": [
    {
     "name": "stdout",
     "output_type": "stream",
     "text": [
      "None\n"
     ]
    }
   ],
   "source": [
    "atp = msg.attach(p)\n",
    "print(atp)"
   ]
  },
  {
   "cell_type": "code",
   "execution_count": 68,
   "metadata": {},
   "outputs": [
    {
     "data": {
      "text/plain": [
       "<smtplib.SMTP at 0x2c8ea3561c0>"
      ]
     },
     "execution_count": 68,
     "metadata": {},
     "output_type": "execute_result"
    }
   ],
   "source": [
    "import smtplib\n",
    "s = smtplib.SMTP('smtp.gmail.com', 587)\n",
    "s"
   ]
  },
  {
   "cell_type": "code",
   "execution_count": 69,
   "metadata": {},
   "outputs": [
    {
     "data": {
      "text/plain": [
       "(220, b'2.0.0 Ready to start TLS')"
      ]
     },
     "execution_count": 69,
     "metadata": {},
     "output_type": "execute_result"
    }
   ],
   "source": [
    "s.starttls()"
   ]
  },
  {
   "cell_type": "code",
   "execution_count": 70,
   "metadata": {},
   "outputs": [
    {
     "name": "stdout",
     "output_type": "stream",
     "text": [
      "Enter password : ········\n"
     ]
    }
   ],
   "source": [
    "import getpass\n",
    "passw = getpass.getpass('Enter password : ')"
   ]
  },
  {
   "cell_type": "code",
   "execution_count": 71,
   "metadata": {},
   "outputs": [
    {
     "data": {
      "text/plain": [
       "(235, b'2.7.0 Accepted')"
      ]
     },
     "execution_count": 71,
     "metadata": {},
     "output_type": "execute_result"
    }
   ],
   "source": [
    "s.login(fromaddr, passw)"
   ]
  },
  {
   "cell_type": "code",
   "execution_count": 72,
   "metadata": {
    "scrolled": true
   },
   "outputs": [
    {
     "name": "stdout",
     "output_type": "stream",
     "text": [
      "Content-Type: multipart/mixed; boundary=\"===============7177834643749056706==\"\n",
      "MIME-Version: 1.0\n",
      "From: sagar.sws2000@gmail.com\n",
      "To: 18erecs080.vicky@rietjaipur.ac.in\n",
      "Subject: COVID19 Slot Notification\n",
      "\n",
      "--===============7177834643749056706==\n",
      "Content-Type: text/plain; charset=\"utf-8\"\n",
      "MIME-Version: 1.0\n",
      "Content-Transfer-Encoding: base64\n",
      "\n",
      "CkJvb2sgeW91ciBTbG90IGhlcmUgOiBodHRwczovL3NlbGZyZWdpc3RyYXRpb24uY293aW4uZ292\n",
      "LmluLwoKVGhpcyBFLU1haWwgaXMgU2VudCB1c2luZyBweXRob24gY29kZSBieSB2aWNrcywKU2xv\n",
      "dHMgYXJlLi4uIChvcGVuIGF0dGFjaGVkIGV4Y2VsIGZpbGUpIGJlbG93LgoKPHRhYmxlIGNlbGxz\n",
      "cGFjaW5nPSIwIiBjZWxscGFkZGluZz0iMCIgYm9yZGVyPSIwIiB3aWR0aD0iMTAwJSI+CiAgICA8\n",
      "dHI+CiAgICAgICAgPHRkIGJnY29sb3I94oCdIzAwMDAwMOKAnT4KICAgICAgICAgICAgWW91ciBl\n",
      "bWFpbCBjb2RlIGdvZXMgaGVyZS4KICAgICAgICA8L3RkPgogICAgPC90cj4KPC90YWJsZT4K\n",
      "\n",
      "--===============7177834643749056706==\n",
      "Content-Type: text/plain; charset=\"utf-8\"\n",
      "MIME-Version: 1.0\n",
      "Content-Transfer-Encoding: base64\n",
      "\n",
      "CkJvb2sgeW91ciBTbG90IGhlcmUgOiBodHRwczovL3NlbGZyZWdpc3RyYXRpb24uY293aW4uZ292\n",
      "LmluLwoKVGhpcyBFLU1haWwgaXMgU2VudCB1c2luZyBweXRob24gY29kZSBieSB2aWNrcywKU2xv\n",
      "dHMgYXJlLi4uIChvcGVuIGF0dGFjaGVkIGV4Y2VsIGZpbGUpIGJlbG93LgoKPHRhYmxlIGNlbGxz\n",
      "cGFjaW5nPSIwIiBjZWxscGFkZGluZz0iMCIgYm9yZGVyPSIwIiB3aWR0aD0iMTAwJSI+CiAgICA8\n",
      "dHI+CiAgICAgICAgPHRkIGJnY29sb3I94oCdIzAwMDAwMOKAnT4KICAgICAgICAgICAgWW91ciBl\n",
      "bWFpbCBjb2RlIGdvZXMgaGVyZS4KICAgICAgICA8L3RkPgogICAgPC90cj4KPC90YWJsZT4K\n",
      "\n",
      "--===============7177834643749056706==\n",
      "Content-Type: text/plain; charset=\"utf-8\"\n",
      "MIME-Version: 1.0\n",
      "Content-Transfer-Encoding: base64\n",
      "\n",
      "CkJvb2sgeW91ciBTbG90IGhlcmUgOiBodHRwczovL3NlbGZyZWdpc3RyYXRpb24uY293aW4uZ292\n",
      "LmluLwoKVGhpcyBFLU1haWwgaXMgU2VudCB1c2luZyBweXRob24gY29kZSBieSB2aWNrcywKU2xv\n",
      "dHMgYXJlLi4uIChvcGVuIGF0dGFjaGVkIGV4Y2VsIGZpbGUpIGJlbG93LgoKPHRhYmxlIGNlbGxz\n",
      "cGFjaW5nPSIwIiBjZWxscGFkZGluZz0iMCIgYm9yZGVyPSIwIiB3aWR0aD0iMTAwJSI+CiAgICA8\n",
      "dHI+CiAgICAgICAgPHRkIGJnY29sb3I94oCdIzAwMDAwMOKAnT4KICAgICAgICAgICAgWW91ciBl\n",
      "bWFpbCBjb2RlIGdvZXMgaGVyZS4KICAgICAgICA8L3RkPgogICAgPC90cj4KPC90YWJsZT4K\n",
      "\n",
      "--===============7177834643749056706==\n",
      "Content-Type: application/octet-stream\n",
      "MIME-Version: 1.0\n",
      "Content-Transfer-Encoding: base64\n",
      "Content-Transfer-Encoding: base64\n",
      "Content-Disposition: attachment; filename= imvickykumar999.xlsx\n",
      "Content-Disposition: attachment; filename= imvickykumar999.xlsx\n",
      "Content-Disposition: attachment; filename= imvickykumar999.xlsx\n",
      "Content-Disposition: attachment; filename= imvickykumar999.xlsx\n",
      "\n",
      "\n",
      "--===============7177834643749056706==\n",
      "Content-Type: application/octet-stream\n",
      "MIME-Version: 1.0\n",
      "Content-Transfer-Encoding: base64\n",
      "Content-Transfer-Encoding: base64\n",
      "Content-Disposition: attachment; filename= imvickykumar999.xlsx\n",
      "Content-Disposition: attachment; filename= imvickykumar999.xlsx\n",
      "Content-Disposition: attachment; filename= imvickykumar999.xlsx\n",
      "Content-Disposition: attachment; filename= imvickykumar999.xlsx\n",
      "\n",
      "\n",
      "--===============7177834643749056706==--\n",
      "\n"
     ]
    }
   ],
   "source": [
    "text = msg.as_string()\n",
    "print(text)"
   ]
  },
  {
   "cell_type": "code",
   "execution_count": 73,
   "metadata": {
    "scrolled": true
   },
   "outputs": [
    {
     "name": "stdout",
     "output_type": "stream",
     "text": [
      "{}\n"
     ]
    }
   ],
   "source": [
    "ss = s.sendmail(fromaddr, toaddr, text)\n",
    "print(ss)"
   ]
  },
  {
   "cell_type": "code",
   "execution_count": 74,
   "metadata": {},
   "outputs": [
    {
     "name": "stdout",
     "output_type": "stream",
     "text": [
      "(221, b'2.0.0 closing connection k16sm17503672pgh.45 - gsmtp')\n"
     ]
    }
   ],
   "source": [
    "sq = s.quit() \n",
    "print(sq)"
   ]
  },
  {
   "cell_type": "code",
   "execution_count": 75,
   "metadata": {},
   "outputs": [
    {
     "data": {
      "text/plain": [
       "dict"
      ]
     },
     "execution_count": 75,
     "metadata": {},
     "output_type": "execute_result"
    }
   ],
   "source": [
    "type(ss)"
   ]
  },
  {
   "cell_type": "code",
   "execution_count": null,
   "metadata": {},
   "outputs": [],
   "source": []
  }
 ],
 "metadata": {
  "kernelspec": {
   "display_name": "Python 3",
   "language": "python",
   "name": "python3"
  },
  "language_info": {
   "codemirror_mode": {
    "name": "ipython",
    "version": 3
   },
   "file_extension": ".py",
   "mimetype": "text/x-python",
   "name": "python",
   "nbconvert_exporter": "python",
   "pygments_lexer": "ipython3",
   "version": "3.8.3"
  }
 },
 "nbformat": 4,
 "nbformat_minor": 4
}
