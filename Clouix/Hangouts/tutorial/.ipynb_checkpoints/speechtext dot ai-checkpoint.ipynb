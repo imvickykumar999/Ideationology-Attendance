{
 "cells": [
  {
   "cell_type": "code",
   "execution_count": 1,
   "metadata": {},
   "outputs": [],
   "source": [
    "# https://speechtext.ai/speech-recognition-api"
   ]
  },
  {
   "cell_type": "code",
   "execution_count": 8,
   "metadata": {},
   "outputs": [
    {
     "name": "stdout",
     "output_type": "stream",
     "text": [
      "Task ID: c5a7df40-1e51-4427-a3dc-d78f2c8cced9\n",
      "Task status: processing\n",
      "Task status: finished\n",
      "Transcription: {'status': 'finished', 'remaining seconds': 3568, 'results': {'transcript': 'Hello everyone. My name is <kw>Vicky Kumar</kw>, and I am using his speech to text <kw>API using Python</kw> <kw>language</kw>.', 'word_time_offsets': [{'word': 'Hello', 'end_time': 1.53, 'confidence': 1, 'start_time': 0}, {'word': 'everyone.', 'end_time': 2.22, 'confidence': 1, 'start_time': 1.53}, {'word': 'My', 'end_time': 2.7, 'confidence': 1, 'start_time': 2.4}, {'word': 'name', 'end_time': 3.09, 'confidence': 1, 'start_time': 2.7}, {'word': 'is', 'end_time': 3.27, 'confidence': 1, 'start_time': 3.09}, {'word': 'Vicky', 'end_time': 3.6, 'confidence': 1, 'start_time': 3.27}, {'word': 'Kumar,', 'end_time': 3.96, 'confidence': 1, 'start_time': 3.6}, {'word': 'and', 'end_time': 4.2, 'confidence': 1, 'start_time': 3.96}, {'word': 'I', 'end_time': 4.38, 'confidence': 1, 'start_time': 4.2}, {'word': 'am', 'end_time': 4.53, 'confidence': 1, 'start_time': 4.38}, {'word': 'using', 'end_time': 5.01, 'confidence': 1, 'start_time': 4.53}, {'word': 'his', 'end_time': 5.49, 'confidence': 1, 'start_time': 5.22}, {'word': 'speech', 'end_time': 5.91, 'confidence': 1, 'start_time': 5.49}, {'word': 'to', 'end_time': 6.21, 'confidence': 1, 'start_time': 5.94}, {'word': 'text', 'end_time': 6.69, 'confidence': 1, 'start_time': 6.24}, {'word': 'API', 'end_time': 7.68, 'confidence': 1, 'start_time': 6.96}, {'word': 'using', 'end_time': 8.55, 'confidence': 1, 'start_time': 8.16}, {'word': 'Python', 'end_time': 8.94, 'confidence': 1, 'start_time': 8.55}, {'word': 'language.', 'end_time': 9.54, 'confidence': 1, 'start_time': 8.94}], 'summary': ''}}\n",
      "Subtitles: 1\n",
      "00:00:00,010 --> 00:00:06,600\n",
      "Hello everyone. My name is Vicky Kumar, and I am using his speech to text\n",
      "\n",
      "2\n",
      "00:00:06,910 --> 00:00:09,500\n",
      "API using Python language.\n",
      "\n",
      "\n"
     ]
    }
   ],
   "source": [
    "import requests\n",
    "import time\n",
    "import json\n",
    "\n",
    "secret_key = \"ccd18921c25d4e6690ed9860f2f364e1\"\n",
    "\n",
    "# retrieve transcription results for the task\n",
    "def get_results(config):\n",
    "  # endpoint to check status of the transcription task\n",
    "  endpoint = \"https://api.speechtext.ai/results?\"\n",
    "  # use a loop to check if the task is finished\n",
    "  while True:\n",
    "    results = requests.get(endpoint, params=config).json()\n",
    "    if \"status\" not in results:\n",
    "      break\n",
    "    print(\"Task status: {}\".format(results[\"status\"]))\n",
    "    if results[\"status\"] == 'failed':\n",
    "      print(\"The task is failed: {}\".format(results))\n",
    "      break\n",
    "    if results[\"status\"] == 'finished':\n",
    "      break\n",
    "    # sleep for 15 seconds if the task has the status - 'processing'\n",
    "    time.sleep(15)\n",
    "  return results\n",
    "\n",
    "# loads the audio into memory\n",
    "with open(\"audio/test.ogg\", mode=\"rb\") as file:\n",
    "  post_body = file.read()\n",
    "\n",
    "# endpoint to start a transcription task\n",
    "endpoint = \"https://api.speechtext.ai/recognize?\"\n",
    "header = {'Content-Type': \"application/octet-stream\"}\n",
    "\n",
    "# transcription task options\n",
    "config = {\n",
    "  \"key\" : secret_key,\n",
    "  \"language\" : \"en-US\",\n",
    "  \"punctuation\" : True,\n",
    "  \"format\" : \"ogg\"\n",
    "}\n",
    "\n",
    "# send an audio transcription request\n",
    "r = requests.post(endpoint, headers = header, params = config, data = post_body).json()\n",
    "\n",
    "# get the id of the speech recognition task\n",
    "task = r[\"id\"]\n",
    "print(\"Task ID: {}\".format(task))\n",
    "\n",
    "# get transcription results, summary, and highlights\n",
    "config = {\n",
    "  \"key\" : secret_key,\n",
    "  \"task\" : task,\n",
    "  \"summary\" : True,\n",
    "  \"summary_size\" : 15,\n",
    "  \"highlights\" : True,\n",
    "  \"max_keywords\" : 10\n",
    "}\n",
    "\n",
    "transcription = get_results(config)\n",
    "print(\"Transcription: {}\".format(transcription))\n",
    "\n",
    "# export your transcription in SRT or VTT format\n",
    "config = {\n",
    "  \"key\" : secret_key,\n",
    "  \"task\" : task,\n",
    "  \"output\" : \"srt\",\n",
    "  \"max_caption_words\" : 15\n",
    "}\n",
    "\n",
    "subtitles = get_results(config)\n",
    "print()\n",
    "print(\"Subtitles: {}\".format(subtitles))"
   ]
  },
  {
   "cell_type": "code",
   "execution_count": 26,
   "metadata": {},
   "outputs": [
    {
     "data": {
      "text/plain": [
       "'1\\n00:00:00,010 --> 00:00:06,600\\nHello everyone. My name is Vicky Kumar, and I am using his speech to text\\n\\n2\\n00:00:06,910 --> 00:00:09,500\\nAPI using Python language.\\n\\n'"
      ]
     },
     "execution_count": 26,
     "metadata": {},
     "output_type": "execute_result"
    }
   ],
   "source": [
    "subtitles"
   ]
  },
  {
   "cell_type": "code",
   "execution_count": 30,
   "metadata": {},
   "outputs": [
    {
     "name": "stdout",
     "output_type": "stream",
     "text": [
      "1\n",
      "----------------------------------------------------------------------\n",
      "00:00:00,010 --> 00:00:06,600\n",
      "----------------------------------------------------------------------\n",
      "Hello everyone. My name is Vicky Kumar, and I am using his speech to text\n",
      "----------------------------------------------------------------------\n",
      "2\n",
      "----------------------------------------------------------------------\n",
      "00:00:06,910 --> 00:00:09,500\n",
      "----------------------------------------------------------------------\n",
      "API using Python language.\n"
     ]
    }
   ],
   "source": [
    "a = f'''\n",
    "{'-'*70}\n",
    "'''.join([i for i in subtitles.split('\\n') if i !=''])\n",
    "print(a)"
   ]
  },
  {
   "cell_type": "code",
   "execution_count": null,
   "metadata": {},
   "outputs": [],
   "source": []
  }
 ],
 "metadata": {
  "kernelspec": {
   "display_name": "Python 3",
   "language": "python",
   "name": "python3"
  },
  "language_info": {
   "codemirror_mode": {
    "name": "ipython",
    "version": 3
   },
   "file_extension": ".py",
   "mimetype": "text/x-python",
   "name": "python",
   "nbconvert_exporter": "python",
   "pygments_lexer": "ipython3",
   "version": "3.8.3"
  }
 },
 "nbformat": 4,
 "nbformat_minor": 4
}
